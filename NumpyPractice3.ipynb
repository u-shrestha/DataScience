{
 "cells": [
  {
   "cell_type": "code",
   "execution_count": 2,
   "metadata": {},
   "outputs": [],
   "source": [
    "import numpy as np\n",
    "import csv"
   ]
  },
  {
   "cell_type": "markdown",
   "metadata": {},
   "source": [
    "**indexing**"
   ]
  },
  {
   "cell_type": "code",
   "execution_count": 3,
   "metadata": {},
   "outputs": [
    {
     "data": {
      "text/plain": [
       "array([  0,   1,   4,   9,  16,  25,  36,  49,  64,  81, 100, 121])"
      ]
     },
     "execution_count": 3,
     "metadata": {},
     "output_type": "execute_result"
    }
   ],
   "source": [
    "a = np.arange(12)**2\n",
    "a"
   ]
  },
  {
   "cell_type": "code",
   "execution_count": 4,
   "metadata": {},
   "outputs": [
    {
     "data": {
      "text/plain": [
       "array([ 4, 16, 25])"
      ]
     },
     "execution_count": 4,
     "metadata": {},
     "output_type": "execute_result"
    }
   ],
   "source": [
    "index = [2,4,5]\n",
    "a[index]"
   ]
  },
  {
   "cell_type": "code",
   "execution_count": 5,
   "metadata": {},
   "outputs": [
    {
     "data": {
      "text/plain": [
       "array([[2, 4],\n",
       "       [8, 9]])"
      ]
     },
     "execution_count": 5,
     "metadata": {},
     "output_type": "execute_result"
    }
   ],
   "source": [
    "index2 = np.array([[2,4],[8,9]])\n",
    "index2"
   ]
  },
  {
   "cell_type": "code",
   "execution_count": 6,
   "metadata": {},
   "outputs": [
    {
     "data": {
      "text/plain": [
       "array([[ 4, 16],\n",
       "       [64, 81]])"
      ]
     },
     "execution_count": 6,
     "metadata": {},
     "output_type": "execute_result"
    }
   ],
   "source": [
    "a[index2]"
   ]
  },
  {
   "cell_type": "code",
   "execution_count": 7,
   "metadata": {},
   "outputs": [],
   "source": [
    "food = np.array([[\"chips\", \"chocolate\", \"chana\", \"pizza\"],\n",
    "                [\"bara\", \"qwati\", \"mango\", \"cherry\"],\n",
    "                [\"cashew\", \"momo\", \"orange\", \"apple\"]])"
   ]
  },
  {
   "cell_type": "code",
   "execution_count": 16,
   "metadata": {},
   "outputs": [],
   "source": [
    "row = np.array([[0,0],[2,2]])\n",
    "col = np.array([[0,3],[0,3]])"
   ]
  },
  {
   "cell_type": "code",
   "execution_count": 18,
   "metadata": {},
   "outputs": [
    {
     "data": {
      "text/plain": [
       "array([['chips', 'pizza'],\n",
       "       ['cashew', 'apple']], dtype='<U9')"
      ]
     },
     "execution_count": 18,
     "metadata": {},
     "output_type": "execute_result"
    }
   ],
   "source": [
    "food[row,col]"
   ]
  },
  {
   "cell_type": "code",
   "execution_count": 19,
   "metadata": {},
   "outputs": [],
   "source": [
    "food[row,col] = 101010"
   ]
  },
  {
   "cell_type": "code",
   "execution_count": 20,
   "metadata": {},
   "outputs": [
    {
     "data": {
      "text/plain": [
       "array([['101010', 'chocolate', 'chana', '101010'],\n",
       "       ['bara', 'qwati', 'mango', 'cherry'],\n",
       "       ['101010', 'momo', 'orange', '101010']], dtype='<U9')"
      ]
     },
     "execution_count": 20,
     "metadata": {},
     "output_type": "execute_result"
    }
   ],
   "source": [
    "food"
   ]
  },
  {
   "cell_type": "markdown",
   "metadata": {},
   "source": [
    "**indexing with GDP data**"
   ]
  },
  {
   "cell_type": "code",
   "execution_count": 21,
   "metadata": {},
   "outputs": [],
   "source": [
    "import pandas as pd\n",
    "import matplotlib.pyplot as plt"
   ]
  },
  {
   "cell_type": "code",
   "execution_count": 22,
   "metadata": {},
   "outputs": [],
   "source": [
    "gdp = pd.read_csv(\"data/gdp_pc.csv\")[\"2016\"].values"
   ]
  },
  {
   "cell_type": "code",
   "execution_count": 24,
   "metadata": {},
   "outputs": [
    {
     "data": {
      "text/plain": [
       "(264,)"
      ]
     },
     "execution_count": 24,
     "metadata": {},
     "output_type": "execute_result"
    }
   ],
   "source": [
    "gdp.shape"
   ]
  },
  {
   "cell_type": "code",
   "execution_count": 25,
   "metadata": {},
   "outputs": [
    {
     "data": {
      "image/png": "[encoded data removed]",
      "text/plain": [
       "<Figure size 432x288 with 1 Axes>"
      ]
     },
     "metadata": {
      "needs_background": "light"
     },
     "output_type": "display_data"
    }
   ],
   "source": [
    "plt.plot(gdp)\n",
    "plt.show()"
   ]
  },
  {
   "cell_type": "code",
   "execution_count": 26,
   "metadata": {},
   "outputs": [
    {
     "data": {
      "text/plain": [
       "nan"
      ]
     },
     "execution_count": 26,
     "metadata": {},
     "output_type": "execute_result"
    }
   ],
   "source": [
    "np.median(gdp)"
   ]
  },
  {
   "cell_type": "code",
   "execution_count": 28,
   "metadata": {},
   "outputs": [],
   "source": [
    "#only those values which is not nan\n",
    "\n",
    "gdp = gdp[~np.isnan(gdp)]"
   ]
  },
  {
   "cell_type": "code",
   "execution_count": 29,
   "metadata": {},
   "outputs": [
    {
     "data": {
      "text/plain": [
       "13113.971083378701"
      ]
     },
     "execution_count": 29,
     "metadata": {},
     "output_type": "execute_result"
    }
   ],
   "source": [
    "np.median(gdp)"
   ]
  },
  {
   "cell_type": "code",
   "execution_count": 30,
   "metadata": {},
   "outputs": [
    {
     "data": {
      "text/plain": [
       "(229,)"
      ]
     },
     "execution_count": 30,
     "metadata": {},
     "output_type": "execute_result"
    }
   ],
   "source": [
    "gdp.shape"
   ]
  },
  {
   "cell_type": "code",
   "execution_count": 33,
   "metadata": {},
   "outputs": [
    {
     "data": {
      "text/plain": [
       "32"
      ]
     },
     "execution_count": 33,
     "metadata": {},
     "output_type": "execute_result"
    }
   ],
   "source": [
    "#count no of elements that match a condition\n",
    "\n",
    "np.count_nonzero(gdp[gdp > 40000])"
   ]
  },
  {
   "cell_type": "code",
   "execution_count": 34,
   "metadata": {},
   "outputs": [
    {
     "data": {
      "text/plain": [
       "array([ 698.70665573,  777.75285166,  801.63011974,  812.67394381,\n",
       "        986.20696062, 1168.82562558, 1216.79278744, 1476.21371969,\n",
       "       1490.53623573, 1506.23832521])"
      ]
     },
     "execution_count": 34,
     "metadata": {},
     "output_type": "execute_result"
    }
   ],
   "source": [
    "#sort array\n",
    "\n",
    "np.sort(gdp)[0:10]"
   ]
  },
  {
   "cell_type": "code",
   "execution_count": 35,
   "metadata": {},
   "outputs": [
    {
     "data": {
      "text/plain": [
       "array([ 74263.99862606,  77420.61217204,  87832.58651422, 102389.43772763,\n",
       "       105420.41423718, 127480.48251099])"
      ]
     },
     "execution_count": 35,
     "metadata": {},
     "output_type": "execute_result"
    }
   ],
   "source": [
    "np.sort(gdp)[223:]"
   ]
  },
  {
   "cell_type": "code",
   "execution_count": 37,
   "metadata": {},
   "outputs": [
    {
     "data": {
      "text/plain": [
       "array([ 72399.65347339,  22661.48853616,  46012.32845157,  50551.5531752 ,\n",
       "        46428.67142458,  22516.81648228,  77420.61217204,  44819.48360027,\n",
       "        26851.1685408 ,  63888.73238665,  23193.97411052,  32707.872887  ,\n",
       "        34749.21236327,  48860.52529211,  49029.01483891,  31366.86706838,\n",
       "        42063.79406454,  36304.85427275,  29743.33742802,  39610.86680734,\n",
       "        43378.14602882,  41343.29253554,  42656.2166022 ,  26058.077443  ,\n",
       "        26778.50496589,  46864.95679091,  58617.97062639,  23422.41797653,\n",
       "        26700.75608264,  71472.29596487,  50745.68297711,  37258.22359457,\n",
       "        38380.17241178,  42281.18818958,  25285.94773126,  26382.78803193,\n",
       "        36532.47268398,  74263.99862606,  29862.31889041, 102389.43772763,\n",
       "        25587.38808847, 105420.41423718,  37928.34126866,  21102.5589232 ,\n",
       "        27682.6079403 ,  56344.96375629,  50538.6065696 ,  58790.06140389,\n",
       "        38565.40345261,  41885.92611335,  25029.76382064,  23008.66536715,\n",
       "        27383.254937  ,  37740.88825606,  30658.63199533,  44804.46017271,\n",
       "       127480.48251099,  23027.28926439,  24788.67927912,  54416.61249319,\n",
       "        87832.58651422,  60932.93003722,  22092.44125736,  30460.38408107,\n",
       "        32723.07195376,  48904.55437072,  28383.89621333,  20172.0612279 ,\n",
       "        32854.71905846,  25247.2017505 ,  21619.60793375,  57638.15908799])"
      ]
     },
     "execution_count": 37,
     "metadata": {},
     "output_type": "execute_result"
    }
   ],
   "source": [
    "#conditional indexing\n",
    "\n",
    "gdp[gdp > 20000]"
   ]
  },
  {
   "cell_type": "code",
   "execution_count": 39,
   "metadata": {},
   "outputs": [
    {
     "data": {
      "text/plain": [
       "60"
      ]
     },
     "execution_count": 39,
     "metadata": {},
     "output_type": "execute_result"
    }
   ],
   "source": [
    "np.count_nonzero((gdp > 6570) & (gdp < 16600))"
   ]
  },
  {
   "cell_type": "markdown",
   "metadata": {},
   "source": [
    "**indexing with boolean arrays**"
   ]
  },
  {
   "cell_type": "code",
   "execution_count": 40,
   "metadata": {},
   "outputs": [
    {
     "data": {
      "text/plain": [
       "array([[ 0,  1,  2,  3],\n",
       "       [ 4,  5,  6,  7],\n",
       "       [ 8,  9, 10, 11],\n",
       "       [12, 13, 14, 15]])"
      ]
     },
     "execution_count": 40,
     "metadata": {},
     "output_type": "execute_result"
    }
   ],
   "source": [
    "x = np.arange(16).reshape(4,4)\n",
    "x"
   ]
  },
  {
   "cell_type": "code",
   "execution_count": 42,
   "metadata": {},
   "outputs": [
    {
     "data": {
      "text/plain": [
       "array([[False, False, False, False],\n",
       "       [False, False, False, False],\n",
       "       [False, False,  True,  True],\n",
       "       [ True,  True,  True,  True]])"
      ]
     },
     "execution_count": 42,
     "metadata": {},
     "output_type": "execute_result"
    }
   ],
   "source": [
    "index_bool = x > 9\n",
    "index_bool"
   ]
  },
  {
   "cell_type": "code",
   "execution_count": 43,
   "metadata": {},
   "outputs": [
    {
     "data": {
      "text/plain": [
       "array([10, 11, 12, 13, 14, 15])"
      ]
     },
     "execution_count": 43,
     "metadata": {},
     "output_type": "execute_result"
    }
   ],
   "source": [
    "x[index_bool]"
   ]
  },
  {
   "cell_type": "code",
   "execution_count": 44,
   "metadata": {},
   "outputs": [
    {
     "data": {
      "text/plain": [
       "array([10, 11, 12, 13, 14, 15])"
      ]
     },
     "execution_count": 44,
     "metadata": {},
     "output_type": "execute_result"
    }
   ],
   "source": [
    "x[x > 9]"
   ]
  },
  {
   "cell_type": "code",
   "execution_count": 46,
   "metadata": {},
   "outputs": [
    {
     "data": {
      "text/plain": [
       "array([[ True,  True,  True,  True],\n",
       "       [ True,  True, False, False],\n",
       "       [False, False, False, False],\n",
       "       [False, False, False, False]])"
      ]
     },
     "execution_count": 46,
     "metadata": {},
     "output_type": "execute_result"
    }
   ],
   "source": [
    "x<6"
   ]
  },
  {
   "cell_type": "code",
   "execution_count": 47,
   "metadata": {},
   "outputs": [
    {
     "data": {
      "text/plain": [
       "6"
      ]
     },
     "execution_count": 47,
     "metadata": {},
     "output_type": "execute_result"
    }
   ],
   "source": [
    "np.count_nonzero(x < 6)"
   ]
  },
  {
   "cell_type": "code",
   "execution_count": 48,
   "metadata": {},
   "outputs": [
    {
     "data": {
      "text/plain": [
       "9"
      ]
     },
     "execution_count": 48,
     "metadata": {},
     "output_type": "execute_result"
    }
   ],
   "source": [
    "#sum the elements that match the condition\n",
    "\n",
    "np.sum(x > 6)"
   ]
  },
  {
   "cell_type": "code",
   "execution_count": 49,
   "metadata": {},
   "outputs": [
    {
     "data": {
      "text/plain": [
       "array([4, 2, 0, 0])"
      ]
     },
     "execution_count": 49,
     "metadata": {},
     "output_type": "execute_result"
    }
   ],
   "source": [
    "#rowwise\n",
    "\n",
    "np.sum(x < 6, axis= 1)"
   ]
  },
  {
   "cell_type": "code",
   "execution_count": 50,
   "metadata": {},
   "outputs": [
    {
     "data": {
      "text/plain": [
       "True"
      ]
     },
     "execution_count": 50,
     "metadata": {},
     "output_type": "execute_result"
    }
   ],
   "source": [
    "#if there is any element that satisifes the condition\n",
    "\n",
    "np.any(x > 8)"
   ]
  },
  {
   "cell_type": "code",
   "execution_count": 51,
   "metadata": {},
   "outputs": [
    {
     "data": {
      "text/plain": [
       "False"
      ]
     },
     "execution_count": 51,
     "metadata": {},
     "output_type": "execute_result"
    }
   ],
   "source": [
    "#if there all elements satisifes the condition\n",
    "\n",
    "np.all(x > 8)"
   ]
  },
  {
   "cell_type": "code",
   "execution_count": 54,
   "metadata": {},
   "outputs": [
    {
     "data": {
      "text/plain": [
       "array([ True,  True,  True,  True])"
      ]
     },
     "execution_count": 54,
     "metadata": {},
     "output_type": "execute_result"
    }
   ],
   "source": [
    "np.all(x < 50, axis= 1)"
   ]
  },
  {
   "cell_type": "code",
   "execution_count": 55,
   "metadata": {},
   "outputs": [
    {
     "data": {
      "text/plain": [
       "array([ True,  True,  True,  True])"
      ]
     },
     "execution_count": 55,
     "metadata": {},
     "output_type": "execute_result"
    }
   ],
   "source": [
    "np.all(x < 50, axis= 0)"
   ]
  },
  {
   "cell_type": "markdown",
   "metadata": {},
   "source": [
    "**indexing with strings structured arrays**"
   ]
  },
  {
   "cell_type": "code",
   "execution_count": 56,
   "metadata": {},
   "outputs": [],
   "source": [
    "name = [\"Alice\", \"Bob\", \"Hades\", \"James\"]\n",
    "stuid = [1,2,3,4]\n",
    "score= [67,89,76,34]"
   ]
  },
  {
   "cell_type": "code",
   "execution_count": 61,
   "metadata": {},
   "outputs": [],
   "source": [
    "stu_data = np.zeros(4, dtype= {'names': ('name', 'stuid', 'score'),\n",
    "                              'formats': ('U10', 'i4', 'f8')})"
   ]
  },
  {
   "cell_type": "code",
   "execution_count": 62,
   "metadata": {},
   "outputs": [
    {
     "data": {
      "text/plain": [
       "array([('', 0, 0.), ('', 0, 0.), ('', 0, 0.), ('', 0, 0.)],\n",
       "      dtype=[('name', '<U10'), ('stuid', '<i4'), ('score', '<f8')])"
      ]
     },
     "execution_count": 62,
     "metadata": {},
     "output_type": "execute_result"
    }
   ],
   "source": [
    "stu_data"
   ]
  },
  {
   "cell_type": "code",
   "execution_count": 63,
   "metadata": {},
   "outputs": [],
   "source": [
    "stu_data['name']= name\n",
    "stu_data['stuid'] = stuid\n",
    "stu_data['score'] = score"
   ]
  },
  {
   "cell_type": "code",
   "execution_count": 64,
   "metadata": {},
   "outputs": [
    {
     "data": {
      "text/plain": [
       "array([('Alice', 1, 67.), ('Bob', 2, 89.), ('Hades', 3, 76.),\n",
       "       ('James', 4, 34.)],\n",
       "      dtype=[('name', '<U10'), ('stuid', '<i4'), ('score', '<f8')])"
      ]
     },
     "execution_count": 64,
     "metadata": {},
     "output_type": "execute_result"
    }
   ],
   "source": [
    "stu_data"
   ]
  },
  {
   "cell_type": "code",
   "execution_count": 65,
   "metadata": {},
   "outputs": [
    {
     "data": {
      "text/plain": [
       "array(['Alice', 'Bob', 'Hades', 'James'], dtype='<U10')"
      ]
     },
     "execution_count": 65,
     "metadata": {},
     "output_type": "execute_result"
    }
   ],
   "source": [
    "stu_data['name']"
   ]
  },
  {
   "cell_type": "code",
   "execution_count": 66,
   "metadata": {},
   "outputs": [
    {
     "data": {
      "text/plain": [
       "('Bob', 2, 89.)"
      ]
     },
     "execution_count": 66,
     "metadata": {},
     "output_type": "execute_result"
    }
   ],
   "source": [
    "stu_data[1]"
   ]
  },
  {
   "cell_type": "code",
   "execution_count": 67,
   "metadata": {},
   "outputs": [
    {
     "data": {
      "text/plain": [
       "'James'"
      ]
     },
     "execution_count": 67,
     "metadata": {},
     "output_type": "execute_result"
    }
   ],
   "source": [
    "stu_data[-1]['name']"
   ]
  },
  {
   "cell_type": "code",
   "execution_count": 69,
   "metadata": {},
   "outputs": [
    {
     "data": {
      "text/plain": [
       "array(['Bob', 'Hades'], dtype='<U10')"
      ]
     },
     "execution_count": 69,
     "metadata": {},
     "output_type": "execute_result"
    }
   ],
   "source": [
    "stu_data[stu_data['score']>70]['name']"
   ]
  },
  {
   "cell_type": "markdown",
   "metadata": {},
   "source": [
    "**broadcasting**\n",
    "\n",
    "*allows operations on arrays with mismatched shape*\n",
    "\n",
    "*describes how numpy treats arrays with different shapes during arithmetic operations*\n",
    "\n",
    "*subject to certain constraints, the smaller array is \"broadcast\" across the larger array so that they have compatible shapes*\n",
    "\n",
    "*dimensions are considered in reverse order, starting with trailaing dim and owrking forward*\n"
   ]
  },
  {
   "cell_type": "code",
   "execution_count": 70,
   "metadata": {},
   "outputs": [],
   "source": [
    "z1 = np.array([1,2,3,4,5])\n",
    "z2 = np.array([10,10,10,10,10])"
   ]
  },
  {
   "cell_type": "code",
   "execution_count": 71,
   "metadata": {},
   "outputs": [
    {
     "data": {
      "text/plain": [
       "array([11, 12, 13, 14, 15])"
      ]
     },
     "execution_count": 71,
     "metadata": {},
     "output_type": "execute_result"
    }
   ],
   "source": [
    "z1+z2"
   ]
  },
  {
   "cell_type": "code",
   "execution_count": 72,
   "metadata": {},
   "outputs": [
    {
     "data": {
      "text/plain": [
       "array([10, 20, 30, 40, 50])"
      ]
     },
     "execution_count": 72,
     "metadata": {},
     "output_type": "execute_result"
    }
   ],
   "source": [
    "z1*z2"
   ]
  },
  {
   "cell_type": "code",
   "execution_count": 73,
   "metadata": {},
   "outputs": [
    {
     "data": {
      "text/plain": [
       "array([ 56, 112, 168, 224, 280])"
      ]
     },
     "execution_count": 73,
     "metadata": {},
     "output_type": "execute_result"
    }
   ],
   "source": [
    "c=56\n",
    "z1*c"
   ]
  },
  {
   "cell_type": "code",
   "execution_count": 74,
   "metadata": {},
   "outputs": [],
   "source": [
    "ht = [165,170,156,180,123,156]\n",
    "wt = [60,61,56,45,80,67]"
   ]
  },
  {
   "cell_type": "code",
   "execution_count": 75,
   "metadata": {},
   "outputs": [
    {
     "data": {
      "text/plain": [
       "array([[165, 170, 156, 180, 123, 156],\n",
       "       [ 60,  61,  56,  45,  80,  67]])"
      ]
     },
     "execution_count": 75,
     "metadata": {},
     "output_type": "execute_result"
    }
   ],
   "source": [
    "stu = np.array([ht, wt])\n",
    "stu"
   ]
  },
  {
   "cell_type": "code",
   "execution_count": 77,
   "metadata": {},
   "outputs": [
    {
     "data": {
      "text/plain": [
       "(2,)"
      ]
     },
     "execution_count": 77,
     "metadata": {},
     "output_type": "execute_result"
    }
   ],
   "source": [
    "factor1 = np.array([0.0328084, 2.20462])\n",
    "factor1.shape\n",
    "#not compatible for broadcasting"
   ]
  },
  {
   "cell_type": "code",
   "execution_count": 79,
   "metadata": {},
   "outputs": [
    {
     "data": {
      "text/plain": [
       "(2, 1)"
      ]
     },
     "execution_count": 79,
     "metadata": {},
     "output_type": "execute_result"
    }
   ],
   "source": [
    "factor2 = np.array([[0.0328084], [2.20462]])\n",
    "factor2.shape"
   ]
  },
  {
   "cell_type": "code",
   "execution_count": 80,
   "metadata": {},
   "outputs": [
    {
     "data": {
      "text/plain": [
       "array([[  5.413386 ,   5.577428 ,   5.1181104,   5.905512 ,   4.0354332,\n",
       "          5.1181104],\n",
       "       [132.2772   , 134.48182  , 123.45872  ,  99.2079   , 176.3696   ,\n",
       "        147.70954  ]])"
      ]
     },
     "execution_count": 80,
     "metadata": {},
     "output_type": "execute_result"
    }
   ],
   "source": [
    "stu * factor2"
   ]
  },
  {
   "cell_type": "markdown",
   "metadata": {},
   "source": [
    "**automatic reshaping**"
   ]
  },
  {
   "cell_type": "code",
   "execution_count": 81,
   "metadata": {},
   "outputs": [
    {
     "data": {
      "text/plain": [
       "array([ 0,  1,  2,  3,  4,  5,  6,  7,  8,  9, 10, 11, 12, 13, 14, 15, 16,\n",
       "       17, 18, 19, 20, 21, 22, 23, 24, 25, 26, 27, 28, 29])"
      ]
     },
     "execution_count": 81,
     "metadata": {},
     "output_type": "execute_result"
    }
   ],
   "source": [
    "p = np.arange(30)\n",
    "p"
   ]
  },
  {
   "cell_type": "code",
   "execution_count": 83,
   "metadata": {},
   "outputs": [
    {
     "data": {
      "text/plain": [
       "array([[[ 0,  1,  2],\n",
       "        [ 3,  4,  5],\n",
       "        [ 6,  7,  8],\n",
       "        [ 9, 10, 11],\n",
       "        [12, 13, 14]],\n",
       "\n",
       "       [[15, 16, 17],\n",
       "        [18, 19, 20],\n",
       "        [21, 22, 23],\n",
       "        [24, 25, 26],\n",
       "        [27, 28, 29]]])"
      ]
     },
     "execution_count": 83,
     "metadata": {},
     "output_type": "execute_result"
    }
   ],
   "source": [
    "p.shape = 2,-1,3\n",
    "p"
   ]
  },
  {
   "cell_type": "code",
   "execution_count": 84,
   "metadata": {},
   "outputs": [
    {
     "data": {
      "text/plain": [
       "(2, 5, 3)"
      ]
     },
     "execution_count": 84,
     "metadata": {},
     "output_type": "execute_result"
    }
   ],
   "source": [
    "p.shape"
   ]
  },
  {
   "cell_type": "code",
   "execution_count": 85,
   "metadata": {},
   "outputs": [
    {
     "data": {
      "text/plain": [
       "array([[[ 0,  1,  2,  3,  4],\n",
       "        [ 5,  6,  7,  8,  9],\n",
       "        [10, 11, 12, 13, 14]],\n",
       "\n",
       "       [[15, 16, 17, 18, 19],\n",
       "        [20, 21, 22, 23, 24],\n",
       "        [25, 26, 27, 28, 29]]])"
      ]
     },
     "execution_count": 85,
     "metadata": {},
     "output_type": "execute_result"
    }
   ],
   "source": [
    "p.shape = 2,3,-1\n",
    "p"
   ]
  },
  {
   "cell_type": "code",
   "execution_count": 86,
   "metadata": {},
   "outputs": [
    {
     "data": {
      "text/plain": [
       "(2, 3, 5)"
      ]
     },
     "execution_count": 86,
     "metadata": {},
     "output_type": "execute_result"
    }
   ],
   "source": [
    "p.shape"
   ]
  },
  {
   "cell_type": "markdown",
   "metadata": {},
   "source": [
    "**vector stacking**"
   ]
  },
  {
   "cell_type": "code",
   "execution_count": 87,
   "metadata": {},
   "outputs": [],
   "source": [
    "x = np.array([[\"nepal\", 'germany'],['ktm', 'berlin']])\n",
    "y = np.array([['hungary', 'austria'], ['budapest', 'vienna']])"
   ]
  },
  {
   "cell_type": "code",
   "execution_count": 88,
   "metadata": {},
   "outputs": [
    {
     "data": {
      "text/plain": [
       "(2, 2)"
      ]
     },
     "execution_count": 88,
     "metadata": {},
     "output_type": "execute_result"
    }
   ],
   "source": [
    "x.shape"
   ]
  },
  {
   "cell_type": "code",
   "execution_count": 89,
   "metadata": {},
   "outputs": [
    {
     "data": {
      "text/plain": [
       "array([['nepal', 'germany'],\n",
       "       ['ktm', 'berlin']], dtype='<U7')"
      ]
     },
     "execution_count": 89,
     "metadata": {},
     "output_type": "execute_result"
    }
   ],
   "source": [
    "x"
   ]
  },
  {
   "cell_type": "code",
   "execution_count": 91,
   "metadata": {},
   "outputs": [
    {
     "data": {
      "text/plain": [
       "array([['nepal', 'germany'],\n",
       "       ['ktm', 'berlin'],\n",
       "       ['hungary', 'austria'],\n",
       "       ['budapest', 'vienna']], dtype='<U8')"
      ]
     },
     "execution_count": 91,
     "metadata": {},
     "output_type": "execute_result"
    }
   ],
   "source": [
    "np.concatenate((x,y)) #default axis= 0; column-wise"
   ]
  },
  {
   "cell_type": "code",
   "execution_count": 92,
   "metadata": {},
   "outputs": [
    {
     "data": {
      "text/plain": [
       "array([['nepal', 'germany', 'hungary', 'austria'],\n",
       "       ['ktm', 'berlin', 'budapest', 'vienna']], dtype='<U8')"
      ]
     },
     "execution_count": 92,
     "metadata": {},
     "output_type": "execute_result"
    }
   ],
   "source": [
    "np.concatenate((x,y), axis= 1)"
   ]
  },
  {
   "cell_type": "code",
   "execution_count": 93,
   "metadata": {},
   "outputs": [],
   "source": [
    "a1 = np.array([1,2,3])\n",
    "a2 = np.array([2,3,4])"
   ]
  },
  {
   "cell_type": "code",
   "execution_count": 95,
   "metadata": {},
   "outputs": [
    {
     "data": {
      "text/plain": [
       "array([[1, 2, 3],\n",
       "       [2, 3, 4]])"
      ]
     },
     "execution_count": 95,
     "metadata": {},
     "output_type": "execute_result"
    }
   ],
   "source": [
    "np.stack((a1,a2))"
   ]
  },
  {
   "cell_type": "code",
   "execution_count": 96,
   "metadata": {},
   "outputs": [
    {
     "data": {
      "text/plain": [
       "array([[1, 2],\n",
       "       [2, 3],\n",
       "       [3, 4]])"
      ]
     },
     "execution_count": 96,
     "metadata": {},
     "output_type": "execute_result"
    }
   ],
   "source": [
    "np.stack((a1,a2), axis= 1)"
   ]
  },
  {
   "cell_type": "code",
   "execution_count": 98,
   "metadata": {},
   "outputs": [
    {
     "data": {
      "text/plain": [
       "array([[1, 2, 3],\n",
       "       [2, 3, 4]])"
      ]
     },
     "execution_count": 98,
     "metadata": {},
     "output_type": "execute_result"
    }
   ],
   "source": [
    "np.vstack((a1,a2))"
   ]
  },
  {
   "cell_type": "code",
   "execution_count": 99,
   "metadata": {},
   "outputs": [
    {
     "data": {
      "text/plain": [
       "array([1, 2, 3, 2, 3, 4])"
      ]
     },
     "execution_count": 99,
     "metadata": {},
     "output_type": "execute_result"
    }
   ],
   "source": [
    "np.hstack((a1,a2)) #gives horizontal seq"
   ]
  },
  {
   "cell_type": "markdown",
   "metadata": {},
   "source": [
    "**plot histograms**"
   ]
  },
  {
   "cell_type": "code",
   "execution_count": 100,
   "metadata": {},
   "outputs": [
    {
     "data": {
      "text/plain": [
       "(array([0, 2, 1]), array([0, 1, 2, 3]))"
      ]
     },
     "execution_count": 100,
     "metadata": {},
     "output_type": "execute_result"
    }
   ],
   "source": [
    "np.histogram([1,2,1], bins = [0,1,2,3])"
   ]
  },
  {
   "cell_type": "code",
   "execution_count": 101,
   "metadata": {},
   "outputs": [],
   "source": [
    "mu, sigma = 2, 0.5\n",
    "data = np.random.normal(mu, sigma, 100000)"
   ]
  },
  {
   "cell_type": "code",
   "execution_count": 102,
   "metadata": {},
   "outputs": [],
   "source": [
    "(n, bin_edges) = np.histogram(data, bins= 50)"
   ]
  },
  {
   "cell_type": "code",
   "execution_count": 103,
   "metadata": {},
   "outputs": [
    {
     "data": {
      "text/plain": [
       "array([   2,    3,    5,   11,   29,   26,   42,   95,  166,  212,  351,\n",
       "        505,  752, 1001, 1458, 1842, 2406, 3106, 3756, 4296, 5061, 5792,\n",
       "       6131, 6516, 6647, 6623, 6250, 6133, 5744, 5027, 4316, 3746, 3022,\n",
       "       2329, 1867, 1451, 1014,  770,  518,  360,  255,  156,   82,   48,\n",
       "         35,   19,    8,    8,    5,    3])"
      ]
     },
     "execution_count": 103,
     "metadata": {},
     "output_type": "execute_result"
    }
   ],
   "source": [
    "n"
   ]
  },
  {
   "cell_type": "code",
   "execution_count": 104,
   "metadata": {},
   "outputs": [
    {
     "data": {
      "text/plain": [
       "array([-0.09137356, -0.00760873,  0.07615611,  0.15992094,  0.24368578,\n",
       "        0.32745062,  0.41121545,  0.49498029,  0.57874513,  0.66250996,\n",
       "        0.7462748 ,  0.83003963,  0.91380447,  0.99756931,  1.08133414,\n",
       "        1.16509898,  1.24886381,  1.33262865,  1.41639349,  1.50015832,\n",
       "        1.58392316,  1.66768799,  1.75145283,  1.83521767,  1.9189825 ,\n",
       "        2.00274734,  2.08651217,  2.17027701,  2.25404185,  2.33780668,\n",
       "        2.42157152,  2.50533636,  2.58910119,  2.67286603,  2.75663086,\n",
       "        2.8403957 ,  2.92416054,  3.00792537,  3.09169021,  3.17545504,\n",
       "        3.25921988,  3.34298472,  3.42674955,  3.51051439,  3.59427922,\n",
       "        3.67804406,  3.7618089 ,  3.84557373,  3.92933857,  4.0131034 ,\n",
       "        4.09686824])"
      ]
     },
     "execution_count": 104,
     "metadata": {},
     "output_type": "execute_result"
    }
   ],
   "source": [
    "bin_edges"
   ]
  },
  {
   "cell_type": "code",
   "execution_count": 106,
   "metadata": {},
   "outputs": [
    {
     "data": {
      "image/png": "[encoded data removed]",
      "text/plain": [
       "<Figure size 432x288 with 1 Axes>"
      ]
     },
     "metadata": {
      "needs_background": "light"
     },
     "output_type": "display_data"
    }
   ],
   "source": [
    "plt.plot(bin_edges[1:], n)\n",
    "plt.show()"
   ]
  },
  {
   "cell_type": "markdown",
   "metadata": {},
   "source": [
    "**misc functions**"
   ]
  },
  {
   "cell_type": "code",
   "execution_count": 107,
   "metadata": {},
   "outputs": [],
   "source": [
    "salaries = np.genfromtxt(\"data/salary.csv\", delimiter= ',')"
   ]
  },
  {
   "cell_type": "code",
   "execution_count": 108,
   "metadata": {},
   "outputs": [
    {
     "data": {
      "text/plain": [
       "(1147,)"
      ]
     },
     "execution_count": 108,
     "metadata": {},
     "output_type": "execute_result"
    }
   ],
   "source": [
    "salaries.shape"
   ]
  },
  {
   "cell_type": "code",
   "execution_count": 109,
   "metadata": {},
   "outputs": [
    {
     "data": {
      "text/plain": [
       "246"
      ]
     },
     "execution_count": 109,
     "metadata": {},
     "output_type": "execute_result"
    }
   ],
   "source": [
    "#returns the indices of maximum values along an axis\n",
    "\n",
    "np.argmax(salaries)\n",
    "#highest salary is at index 246"
   ]
  },
  {
   "cell_type": "code",
   "execution_count": 110,
   "metadata": {},
   "outputs": [
    {
     "data": {
      "text/plain": [
       "850000.0"
      ]
     },
     "execution_count": 110,
     "metadata": {},
     "output_type": "execute_result"
    }
   ],
   "source": [
    "salaries[246]"
   ]
  },
  {
   "cell_type": "code",
   "execution_count": 111,
   "metadata": {},
   "outputs": [
    {
     "data": {
      "text/plain": [
       "282"
      ]
     },
     "execution_count": 111,
     "metadata": {},
     "output_type": "execute_result"
    }
   ],
   "source": [
    "np.argmin(salaries)"
   ]
  },
  {
   "cell_type": "code",
   "execution_count": 112,
   "metadata": {},
   "outputs": [
    {
     "data": {
      "text/plain": [
       "11400.0"
      ]
     },
     "execution_count": 112,
     "metadata": {},
     "output_type": "execute_result"
    }
   ],
   "source": [
    "salaries[282]"
   ]
  },
  {
   "cell_type": "code",
   "execution_count": 113,
   "metadata": {},
   "outputs": [
    {
     "data": {
      "text/plain": [
       "array([282, 969, 606, ..., 829, 389, 246])"
      ]
     },
     "execution_count": 113,
     "metadata": {},
     "output_type": "execute_result"
    }
   ],
   "source": [
    "#returns indices of sorted values in the array\n",
    "\n",
    "np.argsort(salaries)"
   ]
  },
  {
   "cell_type": "code",
   "execution_count": 114,
   "metadata": {},
   "outputs": [
    {
     "data": {
      "text/plain": [
       "array([282, 969, 606, ..., 829, 389, 246])"
      ]
     },
     "execution_count": 114,
     "metadata": {},
     "output_type": "execute_result"
    }
   ],
   "source": [
    "np.argsort(salaries, kind= 'mergesort')"
   ]
  },
  {
   "cell_type": "code",
   "execution_count": 115,
   "metadata": {},
   "outputs": [
    {
     "data": {
      "text/plain": [
       "array([ 11400.,  11642.,  12000., ..., 680000., 820000., 850000.])"
      ]
     },
     "execution_count": 115,
     "metadata": {},
     "output_type": "execute_result"
    }
   ],
   "source": [
    "salaries[np.argsort(salaries, kind= 'quicksort')]"
   ]
  },
  {
   "cell_type": "code",
   "execution_count": 118,
   "metadata": {},
   "outputs": [],
   "source": [
    "g_t_100 = np.where(salaries > 100000)"
   ]
  },
  {
   "cell_type": "code",
   "execution_count": 119,
   "metadata": {},
   "outputs": [
    {
     "data": {
      "text/plain": [
       "(array([  22,   27,   33,   45,   48,   59,   77,   78,   87,   91,   94,\n",
       "         102,  109,  117,  123,  151,  221,  236,  242,  243,  246,  271,\n",
       "         296,  297,  303,  337,  343,  378,  385,  389,  402,  408,  432,\n",
       "         436,  450,  454,  503,  504,  538,  560,  563,  580,  581,  602,\n",
       "         607,  687,  701,  728,  736,  745,  769,  779,  802,  819,  822,\n",
       "         829,  859,  913,  922,  946,  949,  977,  980,  998, 1019, 1033,\n",
       "        1062, 1065, 1104, 1105, 1112, 1130]),)"
      ]
     },
     "execution_count": 119,
     "metadata": {},
     "output_type": "execute_result"
    }
   ],
   "source": [
    "g_t_100 #arrays of indices"
   ]
  },
  {
   "cell_type": "code",
   "execution_count": 120,
   "metadata": {},
   "outputs": [
    {
     "data": {
      "text/plain": [
       "72"
      ]
     },
     "execution_count": 120,
     "metadata": {},
     "output_type": "execute_result"
    }
   ],
   "source": [
    "len(g_t_100[0])"
   ]
  },
  {
   "cell_type": "code",
   "execution_count": 121,
   "metadata": {},
   "outputs": [
    {
     "data": {
      "text/plain": [
       "array([261546., 500000., 120000., 210000., 105227., 115000., 130773.,\n",
       "       103529., 119875., 132000., 141671., 109100., 550000., 180000.,\n",
       "       220000., 109294., 135380., 103529., 120000., 185000., 850000.,\n",
       "       181339., 111600., 102000., 625000., 110464., 102000., 140000.,\n",
       "       120000., 820000., 250000., 130000., 136375., 141000., 142800.,\n",
       "       116626., 110000., 130000., 444000., 116000., 110000., 113996.,\n",
       "       160000., 150000., 108000., 120000., 120000., 220000., 117701.,\n",
       "       120000., 120010., 110000., 103645., 102000., 108977., 680000.,\n",
       "       152568., 114800., 150000., 111841., 110000., 108000., 102000.,\n",
       "       134449., 120000., 101349., 120000., 250000., 175000., 261546.,\n",
       "       120000., 103000.])"
      ]
     },
     "execution_count": 121,
     "metadata": {},
     "output_type": "execute_result"
    }
   ],
   "source": [
    "salaries[g_t_100]"
   ]
  },
  {
   "cell_type": "code",
   "execution_count": 123,
   "metadata": {},
   "outputs": [
    {
     "data": {
      "text/plain": [
       "array([ 60000.,  58000.,  56967.,  70000.,  75000.,  62000.,  56000.,\n",
       "       261546.,  77000., 500000.,  77570.,  60000.,  65000.,  60000.,\n",
       "       120000.,  81000.,  75000.,  75000.,  73000.,  75000., 210000.,\n",
       "        90000., 105227.,  84000.,  98000.,  70000., 115000.,  72000.,\n",
       "        57400.,  70000.,  71796., 130773., 103529.,  57000.,  70000.,\n",
       "        75000.,  57000., 119875.,  60000., 132000., 100000., 141671.,\n",
       "        87500.,  90000.,  65000., 109100.,  98080.,  87689., 550000.,\n",
       "        56697.,  60000., 180000.,  92000.,  63000., 220000.,  66000.,\n",
       "        80000.,  65460.,  65000., 109294.,  70000.,  57758.,  75000.,\n",
       "        75000.,  62662.,  64000.,  90000.,  60000.,  60000.,  70000.,\n",
       "        63000.,  80000.,  70000.,  60000.,  90000., 135380.,  65000.,\n",
       "        70000., 103529.,  64000.,  70000., 120000., 185000.,  70000.,\n",
       "       850000.,  61500.,  60000.,  63000., 181339.,  75665.,  58000.,\n",
       "        57000., 100000.,  65000.,  62662.,  90000.,  70835.,  75000.,\n",
       "       111600., 102000.,  60000.,  65000., 625000., 100000.,  78000.,\n",
       "        75000.,  60000.,  64000.,  63000.,  59656.,  69000.,  80750.,\n",
       "        84703., 110464., 102000.,  56732.,  63000.,  62000.,  60000.,\n",
       "        70151.,  60000.,  56400.,  65000., 140000.,  75000.,  65000.,\n",
       "       120000., 820000.,  80000., 250000.,  58000., 130000.,  85000.,\n",
       "        60000.,  65000.,  71925., 136375.,  90000., 141000.,  90000.,\n",
       "        65000.,  66000.,  72000.,  65000., 142800.,  68000., 116626.,\n",
       "        65000.,  56000.,  57758.,  58000.,  60000.,  60000.,  97000.,\n",
       "        67382.,  90000.,  85000.,  75000.,  57000.,  60000.,  76600.,\n",
       "        60000., 110000., 130000.,  61398.,  60000.,  65000.,  70000.,\n",
       "       100000.,  59000.,  57000.,  60000.,  76000.,  60000.,  88000.,\n",
       "       444000.,  59000.,  70000.,  72000., 100000.,  70000., 116000.,\n",
       "        65000., 110000.,  70000.,  82000.,  56000.,  60000.,  72000.,\n",
       "        60000.,  70000., 113996., 160000.,  60000.,  81733.,  66000.,\n",
       "        80000.,  66000., 150000.,  56000., 108000.,  62031., 100000.,\n",
       "        60000.,  68000.,  60000.,  60000.,  60000.,  90000.,  61700.,\n",
       "        75000.,  77000.,  96000.,  60000.,  86000.,  68000.,  63000.,\n",
       "        65000.,  60000.,  90000.,  90000.,  80000.,  63000.,  80000.,\n",
       "        70915., 120000.,  73500.,  60000.,  60000., 120000.,  56000.,\n",
       "        84396.,  95000.,  94704.,  71000.,  70000.,  60000., 220000.,\n",
       "       117701.,  57758.,  80000.,  65000.,  72000.,  70000., 120000.,\n",
       "        60000.,  60000.,  63500.,  60000.,  59640.,  61027.,  70000.,\n",
       "        61800., 120010.,  83500.,  75000.,  72000.,  84000., 110000.,\n",
       "        60005.,  59500.,  70518.,  66000.,  58000.,  70000.,  99500.,\n",
       "        66858., 103645.,  77000.,  56000.,  62000.,  60000.,  57400.,\n",
       "        92735.,  58000.,  69000., 102000.,  68000., 108977.,  75653.,\n",
       "        68000.,  59938., 680000.,  56967.,  57600.,  75000.,  60000.,\n",
       "        60000.,  58000., 152568.,  98324.,  65000.,  63605.,  82000.,\n",
       "        57000.,  62000.,  85000.,  60000.,  62500.,  68656.,  87280.,\n",
       "        60000.,  57400.,  76000.,  63207.,  59000., 114800.,  60000.,\n",
       "        72000., 150000.,  70000.,  60000.,  57000.,  70000.,  59938.,\n",
       "       111841., 110000.,  63000.,  63207.,  59000.,  64000.,  58000.,\n",
       "        75000.,  75000.,  70500.,  61000.,  60555., 108000.,  60000.,\n",
       "        80000., 102000., 100000.,  64800.,  62000., 134449.,  75000.,\n",
       "        70000.,  65000.,  94000.,  65000.,  60000., 120000.,  80000.,\n",
       "        95000.,  65000., 101349.,  74000.,  70000.,  76289.,  95000.,\n",
       "        78000.,  72000.,  92000.,  65000., 120000.,  72000., 250000.,\n",
       "        68500.,  62000.,  81000.,  70000.,  84000.,  56000.,  87689.,\n",
       "       175000., 261546.,  59000.,  56000., 120000.,  82000.,  70000.,\n",
       "        71380.,  62000., 100000.,  80000., 103000.,  57000.,  76800.,\n",
       "        75000.,  90000.,  70000.])"
      ]
     },
     "execution_count": 123,
     "metadata": {},
     "output_type": "execute_result"
    }
   ],
   "source": [
    "cond = salaries > np.mean(salaries)\n",
    "np.extract(cond, salaries)"
   ]
  }
 ],
 "metadata": {
  "kernelspec": {
   "display_name": "Python 3",
   "language": "python",
   "name": "python3"
  },
  "language_info": {
   "codemirror_mode": {
    "name": "ipython",
    "version": 3
   },
   "file_extension": ".py",
   "mimetype": "text/x-python",
   "name": "python",
   "nbconvert_exporter": "python",
   "pygments_lexer": "ipython3",
   "version": "3.7.6"
  }
 },
 "nbformat": 4,
 "nbformat_minor": 4
}
