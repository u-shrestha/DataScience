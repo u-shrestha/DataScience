{
 "cells": [
  {
   "cell_type": "code",
   "execution_count": 1,
   "metadata": {},
   "outputs": [],
   "source": [
    "import numpy as np\n",
    "import pandas as pd\n",
    "\n",
    "from sklearn.model_selection import train_test_split\n",
    "from sklearn.metrics import accuracy_score\n",
    "from sklearn.metrics import precision_score\n",
    "from sklearn.metrics import recall_score\n",
    "\n",
    "from sklearn.linear_model import LogisticRegression\n",
    "from sklearn.tree import DecisionTreeClassifier"
   ]
  },
  {
   "cell_type": "code",
   "execution_count": 2,
   "metadata": {},
   "outputs": [
    {
     "data": {
      "text/html": [
       "<div>\n",
       "<style scoped>\n",
       "    .dataframe tbody tr th:only-of-type {\n",
       "        vertical-align: middle;\n",
       "    }\n",
       "\n",
       "    .dataframe tbody tr th {\n",
       "        vertical-align: top;\n",
       "    }\n",
       "\n",
       "    .dataframe thead th {\n",
       "        text-align: right;\n",
       "    }\n",
       "</style>\n",
       "<table border=\"1\" class=\"dataframe\">\n",
       "  <thead>\n",
       "    <tr style=\"text-align: right;\">\n",
       "      <th></th>\n",
       "      <th>Survived</th>\n",
       "      <th>Pclass</th>\n",
       "      <th>Sex</th>\n",
       "      <th>Age</th>\n",
       "      <th>SibSp</th>\n",
       "      <th>Parch</th>\n",
       "      <th>Fare</th>\n",
       "      <th>Embarked_C</th>\n",
       "      <th>Embarked_Q</th>\n",
       "      <th>Embarked_S</th>\n",
       "    </tr>\n",
       "  </thead>\n",
       "  <tbody>\n",
       "    <tr>\n",
       "      <th>0</th>\n",
       "      <td>0</td>\n",
       "      <td>3</td>\n",
       "      <td>1</td>\n",
       "      <td>22.0</td>\n",
       "      <td>1</td>\n",
       "      <td>0</td>\n",
       "      <td>7.2500</td>\n",
       "      <td>0</td>\n",
       "      <td>0</td>\n",
       "      <td>1</td>\n",
       "    </tr>\n",
       "    <tr>\n",
       "      <th>1</th>\n",
       "      <td>1</td>\n",
       "      <td>1</td>\n",
       "      <td>0</td>\n",
       "      <td>38.0</td>\n",
       "      <td>1</td>\n",
       "      <td>0</td>\n",
       "      <td>71.2833</td>\n",
       "      <td>1</td>\n",
       "      <td>0</td>\n",
       "      <td>0</td>\n",
       "    </tr>\n",
       "    <tr>\n",
       "      <th>2</th>\n",
       "      <td>1</td>\n",
       "      <td>3</td>\n",
       "      <td>0</td>\n",
       "      <td>26.0</td>\n",
       "      <td>0</td>\n",
       "      <td>0</td>\n",
       "      <td>7.9250</td>\n",
       "      <td>0</td>\n",
       "      <td>0</td>\n",
       "      <td>1</td>\n",
       "    </tr>\n",
       "    <tr>\n",
       "      <th>3</th>\n",
       "      <td>1</td>\n",
       "      <td>1</td>\n",
       "      <td>0</td>\n",
       "      <td>35.0</td>\n",
       "      <td>1</td>\n",
       "      <td>0</td>\n",
       "      <td>53.1000</td>\n",
       "      <td>0</td>\n",
       "      <td>0</td>\n",
       "      <td>1</td>\n",
       "    </tr>\n",
       "    <tr>\n",
       "      <th>4</th>\n",
       "      <td>0</td>\n",
       "      <td>3</td>\n",
       "      <td>1</td>\n",
       "      <td>35.0</td>\n",
       "      <td>0</td>\n",
       "      <td>0</td>\n",
       "      <td>8.0500</td>\n",
       "      <td>0</td>\n",
       "      <td>0</td>\n",
       "      <td>1</td>\n",
       "    </tr>\n",
       "  </tbody>\n",
       "</table>\n",
       "</div>"
      ],
      "text/plain": [
       "   Survived  Pclass  Sex   Age  SibSp  Parch     Fare  Embarked_C  Embarked_Q  \\\n",
       "0         0       3    1  22.0      1      0   7.2500           0           0   \n",
       "1         1       1    0  38.0      1      0  71.2833           1           0   \n",
       "2         1       3    0  26.0      0      0   7.9250           0           0   \n",
       "3         1       1    0  35.0      1      0  53.1000           0           0   \n",
       "4         0       3    1  35.0      0      0   8.0500           0           0   \n",
       "\n",
       "   Embarked_S  \n",
       "0           1  \n",
       "1           0  \n",
       "2           1  \n",
       "3           1  \n",
       "4           1  "
      ]
     },
     "execution_count": 2,
     "metadata": {},
     "output_type": "execute_result"
    }
   ],
   "source": [
    "titanic = pd.read_csv('datasets/titanic_processed.csv')\n",
    "titanic.head()"
   ]
  },
  {
   "cell_type": "code",
   "execution_count": 3,
   "metadata": {},
   "outputs": [],
   "source": [
    "X = titanic.drop('Survived', axis= 1)\n",
    "Y = titanic['Survived']\n",
    "\n",
    "x_train, x_test, y_train, y_test = train_test_split(X, Y, test_size= 0.2) "
   ]
  },
  {
   "cell_type": "code",
   "execution_count": 4,
   "metadata": {},
   "outputs": [],
   "source": [
    "def summarize(y_test, y_pred):\n",
    "    \n",
    "    acc = accuracy_score(y_test, y_pred, normalize= True)\n",
    "    num_acc = accuracy_score(y_test, y_pred, normalize= False)\n",
    "    \n",
    "    pre = precision_score(y_test, y_pred)\n",
    "    recall = recall_score(y_test, y_pred)\n",
    "    \n",
    "    print(\"test data count: \", len(y_test))\n",
    "    print(\"accuracy_count: \", num_acc)\n",
    "    print(\"accuracy score: \", acc)\n",
    "    print(\"precison score: \", pre)\n",
    "    print(\"recall score: \", recall)\n",
    "    print()"
   ]
  },
  {
   "cell_type": "markdown",
   "metadata": {},
   "source": [
    "### decision tree"
   ]
  },
  {
   "cell_type": "code",
   "execution_count": 5,
   "metadata": {},
   "outputs": [
    {
     "data": {
      "text/plain": [
       "{'max_depth': 4}"
      ]
     },
     "execution_count": 5,
     "metadata": {},
     "output_type": "execute_result"
    }
   ],
   "source": [
    "from sklearn.model_selection import GridSearchCV\n",
    "\n",
    "param = {'max_depth': [2,4,5,7,9,10]}\n",
    "\n",
    "grid_se = GridSearchCV(DecisionTreeClassifier(),\n",
    "                      param,\n",
    "                      cv= 3,\n",
    "                      return_train_score= True)\n",
    "grid_se.fit(x_train, y_train)\n",
    "grid_se.best_params_"
   ]
  },
  {
   "cell_type": "code",
   "execution_count": 6,
   "metadata": {},
   "outputs": [
    {
     "name": "stdout",
     "output_type": "stream",
     "text": [
      "parameters:  {'max_depth': 2}\n",
      "mean tests core:  0.7873387171632785\n",
      "rank:  2\n",
      "parameters:  {'max_depth': 4}\n",
      "mean tests core:  0.789083820662768\n",
      "rank:  1\n",
      "parameters:  {'max_depth': 5}\n",
      "mean tests core:  0.7837928153717627\n",
      "rank:  4\n",
      "parameters:  {'max_depth': 7}\n",
      "mean tests core:  0.785547201336675\n",
      "rank:  3\n",
      "parameters:  {'max_depth': 9}\n",
      "mean tests core:  0.7767752715121136\n",
      "rank:  5\n",
      "parameters:  {'max_depth': 10}\n",
      "mean tests core:  0.7662582381880627\n",
      "rank:  6\n"
     ]
    }
   ],
   "source": [
    "for i in range(6):\n",
    "    print(\"parameters: \", grid_se.cv_results_['params'][i])\n",
    "    print(\"mean tests core: \", grid_se.cv_results_['mean_test_score'][i])\n",
    "    print(\"rank: \", grid_se.cv_results_['rank_test_score'][i])"
   ]
  },
  {
   "cell_type": "code",
   "execution_count": 7,
   "metadata": {},
   "outputs": [],
   "source": [
    "decision_tree = DecisionTreeClassifier(max_depth = grid_se.best_params_['max_depth']).fit(x_train, y_train)"
   ]
  },
  {
   "cell_type": "code",
   "execution_count": 8,
   "metadata": {},
   "outputs": [
    {
     "name": "stdout",
     "output_type": "stream",
     "text": [
      "test data count:  143\n",
      "accuracy_count:  117\n",
      "accuracy score:  0.8181818181818182\n",
      "precison score:  0.8\n",
      "recall score:  0.7142857142857143\n",
      "\n"
     ]
    }
   ],
   "source": [
    "y_pred = decision_tree.predict(x_test)\n",
    "summarize(y_test, y_pred)"
   ]
  },
  {
   "cell_type": "markdown",
   "metadata": {},
   "source": [
    "### logistic regression"
   ]
  },
  {
   "cell_type": "code",
   "execution_count": 9,
   "metadata": {},
   "outputs": [
    {
     "data": {
      "text/plain": [
       "{'C': 5, 'penalty': 'l2'}"
      ]
     },
     "execution_count": 9,
     "metadata": {},
     "output_type": "execute_result"
    }
   ],
   "source": [
    "param = {'penalty': ['l1', 'l2'],\n",
    "         'C': [0.1, 0.4, 0.8, 1, 2, 5]}\n",
    "grid_se = GridSearchCV(LogisticRegression(solver= 'liblinear'),\n",
    "                      param,\n",
    "                      cv= 3,\n",
    "                      return_train_score= True)\n",
    "grid_se.fit(x_train, y_train)\n",
    "grid_se.best_params_"
   ]
  },
  {
   "cell_type": "code",
   "execution_count": 10,
   "metadata": {},
   "outputs": [
    {
     "name": "stdout",
     "output_type": "stream",
     "text": [
      "parameters:  {'C': 0.1, 'penalty': 'l1'}\n",
      "mean tests core:  0.7714935486865312\n",
      "rank:  10\n",
      "parameters:  {'C': 0.1, 'penalty': 'l2'}\n",
      "mean tests core:  0.7785482224078715\n",
      "rank:  7\n",
      "parameters:  {'C': 0.4, 'penalty': 'l1'}\n",
      "mean tests core:  0.7715121136173767\n",
      "rank:  9\n",
      "parameters:  {'C': 0.4, 'penalty': 'l2'}\n",
      "mean tests core:  0.7679940592221294\n",
      "rank:  12\n",
      "parameters:  {'C': 0.8, 'penalty': 'l1'}\n",
      "mean tests core:  0.7820848417339645\n",
      "rank:  4\n",
      "parameters:  {'C': 0.8, 'penalty': 'l2'}\n",
      "mean tests core:  0.7697577276524644\n",
      "rank:  11\n",
      "parameters:  {'C': 1, 'penalty': 'l1'}\n",
      "mean tests core:  0.7820848417339645\n",
      "rank:  4\n",
      "parameters:  {'C': 1, 'penalty': 'l2'}\n",
      "mean tests core:  0.7768124013738049\n",
      "rank:  8\n",
      "parameters:  {'C': 2, 'penalty': 'l1'}\n",
      "mean tests core:  0.7803118908382066\n",
      "rank:  6\n",
      "parameters:  {'C': 2, 'penalty': 'l2'}\n",
      "mean tests core:  0.7838392276988767\n",
      "rank:  2\n",
      "parameters:  {'C': 5, 'penalty': 'l1'}\n",
      "mean tests core:  0.7838206627680312\n",
      "rank:  3\n",
      "parameters:  {'C': 5, 'penalty': 'l2'}\n",
      "mean tests core:  0.7891116680590365\n",
      "rank:  1\n"
     ]
    }
   ],
   "source": [
    "for i in range(12):\n",
    "    print(\"parameters: \", grid_se.cv_results_['params'][i])\n",
    "    print(\"mean tests core: \", grid_se.cv_results_['mean_test_score'][i])\n",
    "    print(\"rank: \", grid_se.cv_results_['rank_test_score'][i])"
   ]
  },
  {
   "cell_type": "code",
   "execution_count": 11,
   "metadata": {},
   "outputs": [],
   "source": [
    "logistic = LogisticRegression(solver= 'liblinear',\n",
    "                              penalty = grid_se.best_params_['penalty'],\n",
    "                              C = grid_se.best_params_['C']).fit(x_train, y_train)"
   ]
  },
  {
   "cell_type": "code",
   "execution_count": 12,
   "metadata": {},
   "outputs": [
    {
     "name": "stdout",
     "output_type": "stream",
     "text": [
      "test data count:  143\n",
      "accuracy_count:  115\n",
      "accuracy score:  0.8041958041958042\n",
      "precison score:  0.78\n",
      "recall score:  0.6964285714285714\n",
      "\n"
     ]
    }
   ],
   "source": [
    "y_pred = logistic.predict(x_test)\n",
    "summarize(y_test, y_pred)"
   ]
  }
 ],
 "metadata": {
  "kernelspec": {
   "display_name": "Python 3",
   "language": "python",
   "name": "python3"
  },
  "language_info": {
   "codemirror_mode": {
    "name": "ipython",
    "version": 3
   },
   "file_extension": ".py",
   "mimetype": "text/x-python",
   "name": "python",
   "nbconvert_exporter": "python",
   "pygments_lexer": "ipython3",
   "version": "3.7.6"
  }
 },
 "nbformat": 4,
 "nbformat_minor": 4
}
