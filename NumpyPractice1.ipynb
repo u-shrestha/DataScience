{
 "cells": [
  {
   "cell_type": "code",
   "execution_count": 1,
   "metadata": {},
   "outputs": [],
   "source": [
    "import numpy as np"
   ]
  },
  {
   "cell_type": "code",
   "execution_count": 2,
   "metadata": {},
   "outputs": [
    {
     "name": "stdout",
     "output_type": "stream",
     "text": [
      "<class 'list'>\n"
     ]
    }
   ],
   "source": [
    "arr1=[3,4,4,4,4,4]\n",
    "print(type(arr1))"
   ]
  },
  {
   "cell_type": "code",
   "execution_count": 4,
   "metadata": {},
   "outputs": [
    {
     "name": "stdout",
     "output_type": "stream",
     "text": [
      "<class 'numpy.ndarray'>\n"
     ]
    }
   ],
   "source": [
    "narr1=np.array(arr1)\n",
    "print(type(narr1))"
   ]
  },
  {
   "cell_type": "code",
   "execution_count": 5,
   "metadata": {},
   "outputs": [
    {
     "name": "stdout",
     "output_type": "stream",
     "text": [
      "<class 'numpy.ndarray'>\n",
      "[[1 2 3 4]\n",
      " [2 3 4 5]]\n"
     ]
    }
   ],
   "source": [
    "narr2=np.array([[1,2,3,4],[2,3,4,5]])\n",
    "print(type(narr2))\n",
    "print(narr2)"
   ]
  },
  {
   "cell_type": "code",
   "execution_count": 6,
   "metadata": {},
   "outputs": [
    {
     "name": "stdout",
     "output_type": "stream",
     "text": [
      "(6,)\n",
      "(2, 4)\n"
     ]
    }
   ],
   "source": [
    "print(narr1.shape)\n",
    "print(narr2.shape)"
   ]
  },
  {
   "cell_type": "code",
   "execution_count": 7,
   "metadata": {},
   "outputs": [
    {
     "name": "stdout",
     "output_type": "stream",
     "text": [
      "[[0. 0. 0.]\n",
      " [0. 0. 0.]\n",
      " [0. 0. 0.]]\n",
      "[[1. 1. 1.]\n",
      " [1. 1. 1.]]\n"
     ]
    }
   ],
   "source": [
    "zero_arr=np.zeros((3,3))\n",
    "print(zero_arr)\n",
    "one_arr=np.ones((2,3))\n",
    "print(one_arr)"
   ]
  },
  {
   "cell_type": "code",
   "execution_count": 8,
   "metadata": {},
   "outputs": [
    {
     "name": "stdout",
     "output_type": "stream",
     "text": [
      "[[6 6 6]\n",
      " [6 6 6]\n",
      " [6 6 6]]\n"
     ]
    }
   ],
   "source": [
    "full_arr=np.full((3,3),6)\n",
    "print(full_arr)"
   ]
  },
  {
   "cell_type": "code",
   "execution_count": 9,
   "metadata": {},
   "outputs": [
    {
     "name": "stdout",
     "output_type": "stream",
     "text": [
      "[[1. 0. 0. 0.]\n",
      " [0. 1. 0. 0.]\n",
      " [0. 0. 1. 0.]\n",
      " [0. 0. 0. 1.]]\n"
     ]
    }
   ],
   "source": [
    "eye_arr=np.eye(4)\n",
    "print(eye_arr)"
   ]
  },
  {
   "cell_type": "code",
   "execution_count": 10,
   "metadata": {
    "scrolled": true
   },
   "outputs": [
    {
     "name": "stdout",
     "output_type": "stream",
     "text": [
      "[3 4 4 4 4 4 0 9 8 7]\n",
      "[[1 2 3 4]\n",
      " [2 3 4 5]\n",
      " [1 2 3 4]\n",
      " [5 6 7 8]]\n"
     ]
    }
   ],
   "source": [
    "narr3=np.array([0,9,8,7])\n",
    "narr4= np.array([[1,2,3,4],[5,6,7,8]])\n",
    "concat_arr1=np.concatenate([narr1, narr3])\n",
    "concat_arr2=np.concatenate([narr2, narr4])\n",
    "print(concat_arr1)\n",
    "print(concat_arr2)"
   ]
  },
  {
   "cell_type": "code",
   "execution_count": 11,
   "metadata": {},
   "outputs": [
    {
     "name": "stdout",
     "output_type": "stream",
     "text": [
      "[[1 2 3 4]\n",
      " [2 3 4 5]]\n",
      "3\n",
      "[[2 3 4 5]]\n",
      "[[1 2 3 4]]\n",
      "[2 3 4 5]\n",
      "[2 3 6 5]\n",
      "4\n",
      "[[1 2 3]]\n",
      "[[False False False  True]\n",
      " [False False  True  True]]\n",
      "[4 4 5]\n"
     ]
    },
    {
     "data": {
      "text/plain": [
       "array([1, 2, 2])"
      ]
     },
     "execution_count": 11,
     "metadata": {},
     "output_type": "execute_result"
    }
   ],
   "source": [
    "#selection and indexing\n",
    "\n",
    "print(narr2)\n",
    "print(narr2[1][1])\n",
    "print(narr2[1:3])\n",
    "print(narr2[0:1])\n",
    "\n",
    "narr5=np.array([2,3,4,5])\n",
    "print(narr5)\n",
    "\n",
    "narr5[2]=6\n",
    "print(narr5)\n",
    "print(concat_arr2[1,2])\n",
    "print(narr2[0:1,0:3]) # row slice, column slice\n",
    "\n",
    "bool_arr= narr2>3\n",
    "print(bool_arr)\n",
    "print(narr2[bool_arr])\n",
    "\n",
    "narr2[narr2<3]\n"
   ]
  },
  {
   "cell_type": "code",
   "execution_count": 12,
   "metadata": {},
   "outputs": [
    {
     "name": "stdout",
     "output_type": "stream",
     "text": [
      "[ 2 11 10]\n",
      "[ 1 11 11]\n",
      "[ 1 -7 -5]\n",
      "[ 0 18 24]\n",
      "[0.         4.5        2.66666667]\n",
      "42\n"
     ]
    }
   ],
   "source": [
    "# vector arithmetics\n",
    "\n",
    "x= np.array([1,2,3])\n",
    "y= np.array([0,9,8])\n",
    "print(y+2)\n",
    "print(x+y)\n",
    "print(x-y)\n",
    "print(x*y)\n",
    "print(y/x)\n",
    "\n",
    "#dot product\n",
    "print(np.dot(x,y))\n"
   ]
  },
  {
   "cell_type": "code",
   "execution_count": 21,
   "metadata": {},
   "outputs": [
    {
     "name": "stdout",
     "output_type": "stream",
     "text": [
      "<class 'numpy.matrix'>\n",
      "[[ 4  6]\n",
      " [10 10]]\n",
      "[[-2 -2]\n",
      " [-4 -2]]\n",
      "[[17 16]\n",
      " [37 36]]\n",
      "[[ 3  6]\n",
      " [ 9 12]]\n",
      "[[ 3  8]\n",
      " [21 24]]\n",
      "[[1 3]\n",
      " [2 4]]\n",
      "[[-2.   1. ]\n",
      " [ 1.5 -0.5]]\n"
     ]
    },
    {
     "data": {
      "text/plain": [
       "matrix([[17, 16],\n",
       "        [37, 36]])"
      ]
     },
     "execution_count": 21,
     "metadata": {},
     "output_type": "execute_result"
    }
   ],
   "source": [
    "# matrix airthmetic\n",
    "\n",
    "from numpy.linalg import inv\n",
    "\n",
    "x= np.matrix([[1,2],[3,4]])\n",
    "y= np.matrix([[3,4],[7,6]])\n",
    "# matrix are strictly 2 dimensional\n",
    "print(type(x))\n",
    "print(x+y)\n",
    "print(x-y)\n",
    "print(x*y)\n",
    "print(3*x)\n",
    "print(np.multiply(x,y))#element-wise\n",
    "print(x.T)\n",
    "print(inv(x))\n",
    "\n",
    "#dot product\n",
    "\n",
    "x.dot(y)"
   ]
  },
  {
   "cell_type": "code",
   "execution_count": 14,
   "metadata": {},
   "outputs": [
    {
     "name": "stdout",
     "output_type": "stream",
     "text": [
      "[[ 0  1  2  3  4]\n",
      " [ 5  6  7  8  9]\n",
      " [10 11 12 13 14]]\n",
      "[0 1 2 3 4]\n",
      "[[ 0  2  4  6  8]\n",
      " [ 5  7  9 11 13]\n",
      " [10 12 14 16 18]]\n",
      "[[ 0  0  0  0  0]\n",
      " [ 5  5  5  5  5]\n",
      " [10 10 10 10 10]]\n",
      "[[0]\n",
      " [1]\n",
      " [2]]\n",
      "[[ 0  1  2  3  4]\n",
      " [ 6  7  8  9 10]\n",
      " [12 13 14 15 16]]\n",
      "[[ 0  1  2  3  4]\n",
      " [ 4  5  6  7  8]\n",
      " [ 8  9 10 11 12]]\n"
     ]
    }
   ],
   "source": [
    "#Broadcasting\n",
    "\n",
    "q=np.arange(15).reshape(3,5)\n",
    "print(q)\n",
    "\n",
    "a=np.arange(5)\n",
    "print(a)\n",
    "print(q+a)\n",
    "print(q-a)\n",
    "\n",
    "z=np.arange(3).reshape(3,1)\n",
    "print(z)\n",
    "print(q+z)\n",
    "print(q-z)"
   ]
  },
  {
   "cell_type": "code",
   "execution_count": 15,
   "metadata": {},
   "outputs": [
    {
     "name": "stdout",
     "output_type": "stream",
     "text": [
      "[[ 2  1]\n",
      " [ 1 -1]]\n",
      "[ 4 -1]\n",
      "[[ 0.33333333  0.33333333]\n",
      " [ 0.33333333 -0.66666667]]\n",
      "[1. 2.]\n"
     ]
    },
    {
     "data": {
      "text/plain": [
       "array([0.46511628, 1.39534884, 0.58139535])"
      ]
     },
     "execution_count": 15,
     "metadata": {},
     "output_type": "execute_result"
    }
   ],
   "source": [
    "#solve equations\n",
    "\n",
    "x=np.array([[2,1],[1,-1]])\n",
    "print(x)\n",
    "b=np.array([4,-1])\n",
    "print(b)\n",
    "x_inv=np.linalg.inv(x)\n",
    "print(x_inv)\n",
    "y=x_inv.dot(b)\n",
    "print(y)\n",
    "\n",
    "x2=np.array([[1,2,3],[4,5,2],[2,8,5]])\n",
    "b2=np.array([5,10,15])\n",
    "np.linalg.solve(x2,b2)"
   ]
  },
  {
   "cell_type": "code",
   "execution_count": 22,
   "metadata": {},
   "outputs": [
    {
     "name": "stdout",
     "output_type": "stream",
     "text": [
      "[[1 2 3 4]\n",
      " [4 5 6 7]\n",
      " [5 8 9 0]\n",
      " [6 2 4 6]]\n",
      "0\n",
      "9\n",
      "72\n",
      "[16 17 22 17]\n",
      "[10 22 22 18]\n",
      "4.5\n",
      "[2.5 5.5 5.5 4.5]\n",
      "4.5\n",
      "[4.5 3.5 5.  5. ]\n",
      "2.4238399287081647\n",
      "[1.87082869 2.48746859 2.29128785 2.68095132]\n",
      "4.5\n",
      "[5.25 5.75 6.75 6.25]\n"
     ]
    }
   ],
   "source": [
    "#some basic statistic operations\n",
    "\n",
    "narr6= np.array([[1,2,3,4],[4,5,6,7],[5,8,9,0],[6,2,4,6]])\n",
    "print(narr6)\n",
    "print(narr6.min()) # min val\n",
    "print(narr6.max()) #max val\n",
    "print(narr6.sum())#sum of all values\n",
    "print(narr6.sum(axis=0))# column wise sum\n",
    "print(narr6.sum(axis=1))# row wise sum\n",
    "print(narr6.mean()) #mean\n",
    "print(narr6.mean(axis=1))# row means\n",
    "print(np.median(narr6)) #median\n",
    "print(np.median(narr6, axis=0))# column-wise median\n",
    "print(np.std(narr6)) #std\n",
    "print(narr6.std(axis=0))# column standard deviation\n",
    "print(np.percentile(narr6,50))\n",
    "print(np.percentile(narr6,75, axis=0)) #75th percentile column wise"
   ]
  },
  {
   "cell_type": "code",
   "execution_count": 17,
   "metadata": {},
   "outputs": [
    {
     "data": {
      "text/plain": [
       "array([ 5.        ,  6.66666667,  8.33333333, 10.        , 11.66666667,\n",
       "       13.33333333, 15.        , 16.66666667, 18.33333333, 20.        ])"
      ]
     },
     "execution_count": 17,
     "metadata": {},
     "output_type": "execute_result"
    }
   ],
   "source": [
    "np.linspace(5,20,10)"
   ]
  },
  {
   "cell_type": "code",
   "execution_count": 18,
   "metadata": {},
   "outputs": [
    {
     "data": {
      "text/plain": [
       "array([34, 75, 47, 36, 32, 25, 25, 71, 56, 81, 94])"
      ]
     },
     "execution_count": 18,
     "metadata": {},
     "output_type": "execute_result"
    }
   ],
   "source": [
    "#random\n",
    "\n",
    "np.random.rand(5)\n",
    "np.random.rand(3,4)\n",
    "\n",
    "#gussian distribution\n",
    "\n",
    "np.random.randn(2)\n",
    "np.random.randn(3,1)\n",
    "np.random.randint(1,100)\n",
    "np.random.randint(1,100,11)"
   ]
  },
  {
   "cell_type": "code",
   "execution_count": 19,
   "metadata": {},
   "outputs": [
    {
     "name": "stdout",
     "output_type": "stream",
     "text": [
      "[ 0  1  2  3  4  5  6  7  8  9 10 11 12 13 14 15 16 17 18 19 20 21 22 23\n",
      " 24] [42 51 14 55 26 19 36 30 42  3 10]\n"
     ]
    },
    {
     "data": {
      "text/plain": [
       "array([[ 0,  1,  2,  3,  4],\n",
       "       [ 5,  6,  7,  8,  9],\n",
       "       [10, 11, 12, 13, 14],\n",
       "       [15, 16, 17, 18, 19],\n",
       "       [20, 21, 22, 23, 24]])"
      ]
     },
     "execution_count": 19,
     "metadata": {},
     "output_type": "execute_result"
    }
   ],
   "source": [
    "#reshape\n",
    "\n",
    "narr7=np.arange(25)\n",
    "narr8=np.random.randint(0,60,11)\n",
    "\n",
    "print(narr7,narr8)\n",
    "narr7.reshape(5,5)\n"
   ]
  },
  {
   "cell_type": "code",
   "execution_count": 20,
   "metadata": {},
   "outputs": [
    {
     "name": "stdout",
     "output_type": "stream",
     "text": [
      "3\n",
      "55\n"
     ]
    },
    {
     "data": {
      "text/plain": [
       "3"
      ]
     },
     "execution_count": 20,
     "metadata": {},
     "output_type": "execute_result"
    }
   ],
   "source": [
    "#max and min\n",
    "\n",
    "print(narr8.min())\n",
    "print(narr8.max())\n",
    "\n",
    "narr8.argmin()\n",
    "narr8.argmax()\n"
   ]
  }
 ],
 "metadata": {
  "kernelspec": {
   "display_name": "Python 3",
   "language": "python",
   "name": "python3"
  },
  "language_info": {
   "codemirror_mode": {
    "name": "ipython",
    "version": 3
   },
   "file_extension": ".py",
   "mimetype": "text/x-python",
   "name": "python",
   "nbconvert_exporter": "python",
   "pygments_lexer": "ipython3",
   "version": "3.7.6"
  }
 },
 "nbformat": 4,
 "nbformat_minor": 4
}
