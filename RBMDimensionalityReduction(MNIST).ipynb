{
 "cells": [
  {
   "cell_type": "code",
   "execution_count": 1,
   "metadata": {},
   "outputs": [],
   "source": [
    "import pandas as pd\n",
    "import numpy as np\n",
    "import matplotlib.pyplot as plt\n",
    "\n",
    "from sklearn import linear_model, metrics\n",
    "from sklearn.model_selection import train_test_split\n",
    "\n",
    "from sklearn.neural_network import BernoulliRBM\n",
    "from sklearn.pipeline import Pipeline\n",
    "from sklearn.base import clone"
   ]
  },
  {
   "cell_type": "code",
   "execution_count": 3,
   "metadata": {},
   "outputs": [
    {
     "data": {
      "text/html": [
       "<div>\n",
       "<style scoped>\n",
       "    .dataframe tbody tr th:only-of-type {\n",
       "        vertical-align: middle;\n",
       "    }\n",
       "\n",
       "    .dataframe tbody tr th {\n",
       "        vertical-align: top;\n",
       "    }\n",
       "\n",
       "    .dataframe thead th {\n",
       "        text-align: right;\n",
       "    }\n",
       "</style>\n",
       "<table border=\"1\" class=\"dataframe\">\n",
       "  <thead>\n",
       "    <tr style=\"text-align: right;\">\n",
       "      <th></th>\n",
       "      <th>label</th>\n",
       "      <th>pixel0</th>\n",
       "      <th>pixel1</th>\n",
       "      <th>pixel2</th>\n",
       "      <th>pixel3</th>\n",
       "      <th>pixel4</th>\n",
       "      <th>pixel5</th>\n",
       "      <th>pixel6</th>\n",
       "      <th>pixel7</th>\n",
       "      <th>pixel8</th>\n",
       "      <th>...</th>\n",
       "      <th>pixel774</th>\n",
       "      <th>pixel775</th>\n",
       "      <th>pixel776</th>\n",
       "      <th>pixel777</th>\n",
       "      <th>pixel778</th>\n",
       "      <th>pixel779</th>\n",
       "      <th>pixel780</th>\n",
       "      <th>pixel781</th>\n",
       "      <th>pixel782</th>\n",
       "      <th>pixel783</th>\n",
       "    </tr>\n",
       "  </thead>\n",
       "  <tbody>\n",
       "    <tr>\n",
       "      <th>0</th>\n",
       "      <td>1</td>\n",
       "      <td>0</td>\n",
       "      <td>0</td>\n",
       "      <td>0</td>\n",
       "      <td>0</td>\n",
       "      <td>0</td>\n",
       "      <td>0</td>\n",
       "      <td>0</td>\n",
       "      <td>0</td>\n",
       "      <td>0</td>\n",
       "      <td>...</td>\n",
       "      <td>0</td>\n",
       "      <td>0</td>\n",
       "      <td>0</td>\n",
       "      <td>0</td>\n",
       "      <td>0</td>\n",
       "      <td>0</td>\n",
       "      <td>0</td>\n",
       "      <td>0</td>\n",
       "      <td>0</td>\n",
       "      <td>0</td>\n",
       "    </tr>\n",
       "    <tr>\n",
       "      <th>1</th>\n",
       "      <td>0</td>\n",
       "      <td>0</td>\n",
       "      <td>0</td>\n",
       "      <td>0</td>\n",
       "      <td>0</td>\n",
       "      <td>0</td>\n",
       "      <td>0</td>\n",
       "      <td>0</td>\n",
       "      <td>0</td>\n",
       "      <td>0</td>\n",
       "      <td>...</td>\n",
       "      <td>0</td>\n",
       "      <td>0</td>\n",
       "      <td>0</td>\n",
       "      <td>0</td>\n",
       "      <td>0</td>\n",
       "      <td>0</td>\n",
       "      <td>0</td>\n",
       "      <td>0</td>\n",
       "      <td>0</td>\n",
       "      <td>0</td>\n",
       "    </tr>\n",
       "    <tr>\n",
       "      <th>2</th>\n",
       "      <td>1</td>\n",
       "      <td>0</td>\n",
       "      <td>0</td>\n",
       "      <td>0</td>\n",
       "      <td>0</td>\n",
       "      <td>0</td>\n",
       "      <td>0</td>\n",
       "      <td>0</td>\n",
       "      <td>0</td>\n",
       "      <td>0</td>\n",
       "      <td>...</td>\n",
       "      <td>0</td>\n",
       "      <td>0</td>\n",
       "      <td>0</td>\n",
       "      <td>0</td>\n",
       "      <td>0</td>\n",
       "      <td>0</td>\n",
       "      <td>0</td>\n",
       "      <td>0</td>\n",
       "      <td>0</td>\n",
       "      <td>0</td>\n",
       "    </tr>\n",
       "    <tr>\n",
       "      <th>3</th>\n",
       "      <td>4</td>\n",
       "      <td>0</td>\n",
       "      <td>0</td>\n",
       "      <td>0</td>\n",
       "      <td>0</td>\n",
       "      <td>0</td>\n",
       "      <td>0</td>\n",
       "      <td>0</td>\n",
       "      <td>0</td>\n",
       "      <td>0</td>\n",
       "      <td>...</td>\n",
       "      <td>0</td>\n",
       "      <td>0</td>\n",
       "      <td>0</td>\n",
       "      <td>0</td>\n",
       "      <td>0</td>\n",
       "      <td>0</td>\n",
       "      <td>0</td>\n",
       "      <td>0</td>\n",
       "      <td>0</td>\n",
       "      <td>0</td>\n",
       "    </tr>\n",
       "    <tr>\n",
       "      <th>4</th>\n",
       "      <td>0</td>\n",
       "      <td>0</td>\n",
       "      <td>0</td>\n",
       "      <td>0</td>\n",
       "      <td>0</td>\n",
       "      <td>0</td>\n",
       "      <td>0</td>\n",
       "      <td>0</td>\n",
       "      <td>0</td>\n",
       "      <td>0</td>\n",
       "      <td>...</td>\n",
       "      <td>0</td>\n",
       "      <td>0</td>\n",
       "      <td>0</td>\n",
       "      <td>0</td>\n",
       "      <td>0</td>\n",
       "      <td>0</td>\n",
       "      <td>0</td>\n",
       "      <td>0</td>\n",
       "      <td>0</td>\n",
       "      <td>0</td>\n",
       "    </tr>\n",
       "  </tbody>\n",
       "</table>\n",
       "<p>5 rows × 785 columns</p>\n",
       "</div>"
      ],
      "text/plain": [
       "   label  pixel0  pixel1  pixel2  pixel3  pixel4  pixel5  pixel6  pixel7  \\\n",
       "0      1       0       0       0       0       0       0       0       0   \n",
       "1      0       0       0       0       0       0       0       0       0   \n",
       "2      1       0       0       0       0       0       0       0       0   \n",
       "3      4       0       0       0       0       0       0       0       0   \n",
       "4      0       0       0       0       0       0       0       0       0   \n",
       "\n",
       "   pixel8  ...  pixel774  pixel775  pixel776  pixel777  pixel778  pixel779  \\\n",
       "0       0  ...         0         0         0         0         0         0   \n",
       "1       0  ...         0         0         0         0         0         0   \n",
       "2       0  ...         0         0         0         0         0         0   \n",
       "3       0  ...         0         0         0         0         0         0   \n",
       "4       0  ...         0         0         0         0         0         0   \n",
       "\n",
       "   pixel780  pixel781  pixel782  pixel783  \n",
       "0         0         0         0         0  \n",
       "1         0         0         0         0  \n",
       "2         0         0         0         0  \n",
       "3         0         0         0         0  \n",
       "4         0         0         0         0  \n",
       "\n",
       "[5 rows x 785 columns]"
      ]
     },
     "execution_count": 3,
     "metadata": {},
     "output_type": "execute_result"
    }
   ],
   "source": [
    "mnist = pd.read_csv('datasets/mnist.csv')\n",
    "mnist.head()"
   ]
  },
  {
   "cell_type": "code",
   "execution_count": 4,
   "metadata": {},
   "outputs": [
    {
     "data": {
      "text/plain": [
       "(42000, 785)"
      ]
     },
     "execution_count": 4,
     "metadata": {},
     "output_type": "execute_result"
    }
   ],
   "source": [
    "mnist.shape"
   ]
  },
  {
   "cell_type": "code",
   "execution_count": 5,
   "metadata": {},
   "outputs": [
    {
     "data": {
      "text/plain": [
       "[0, 1, 2, 3, 4, 5, 6, 7, 8, 9]"
      ]
     },
     "execution_count": 5,
     "metadata": {},
     "output_type": "execute_result"
    }
   ],
   "source": [
    "sorted(mnist['label'].unique())"
   ]
  },
  {
   "cell_type": "code",
   "execution_count": 6,
   "metadata": {},
   "outputs": [],
   "source": [
    "mnist_fe = mnist[mnist.columns[1:]]\n",
    "mnist_labels = mnist['label']"
   ]
  },
  {
   "cell_type": "code",
   "execution_count": 7,
   "metadata": {},
   "outputs": [],
   "source": [
    "def display_img(index):\n",
    "    print('digit: ', mnist_labels[index])\n",
    "    plt.imshow(mnist_fe.loc[index].values.reshape(28,28),\n",
    "               cmap= 'Greys')"
   ]
  },
  {
   "cell_type": "code",
   "execution_count": 8,
   "metadata": {},
   "outputs": [
    {
     "name": "stdout",
     "output_type": "stream",
     "text": [
      "digit:  1\n"
     ]
    },
    {
     "data": {
      "image/png": "[encoded data removed]",
      "text/plain": [
       "<Figure size 432x288 with 1 Axes>"
      ]
     },
     "metadata": {
      "needs_background": "light"
     },
     "output_type": "display_data"
    }
   ],
   "source": [
    "display_img(2)"
   ]
  },
  {
   "cell_type": "code",
   "execution_count": 9,
   "metadata": {},
   "outputs": [
    {
     "name": "stdout",
     "output_type": "stream",
     "text": [
      "digit:  3\n"
     ]
    },
    {
     "data": {
      "image/png": "[encoded data removed]",
      "text/plain": [
       "<Figure size 432x288 with 1 Axes>"
      ]
     },
     "metadata": {
      "needs_background": "light"
     },
     "output_type": "display_data"
    }
   ],
   "source": [
    "display_img(2000)"
   ]
  },
  {
   "cell_type": "code",
   "execution_count": 10,
   "metadata": {},
   "outputs": [
    {
     "data": {
      "text/plain": [
       "(42000, 784)"
      ]
     },
     "execution_count": 10,
     "metadata": {},
     "output_type": "execute_result"
    }
   ],
   "source": [
    "mnist_fe = np.array(mnist_fe)\n",
    "mnist_fe.shape"
   ]
  },
  {
   "cell_type": "code",
   "execution_count": 11,
   "metadata": {},
   "outputs": [
    {
     "data": {
      "text/plain": [
       "array([  0,   0,   0,   0,   0,   0,   0,   0,   0,   0,   0,   0,   0,\n",
       "         0,   0,   0,   0,   0,   0,   0,   0,   0,   0,   0,   0,   0,\n",
       "         0,   0,   0,   0,   7,  24,  24,  97, 253, 253, 253, 253, 255,\n",
       "       180,  48,   0,   0,   0,   0,   0,   0,   0,   0,   0])"
      ]
     },
     "execution_count": 11,
     "metadata": {},
     "output_type": "execute_result"
    }
   ],
   "source": [
    "mnist_fe[10][150:200]"
   ]
  },
  {
   "cell_type": "code",
   "execution_count": 13,
   "metadata": {},
   "outputs": [
    {
     "data": {
      "text/plain": [
       "array([0.        , 0.        , 0.        , 0.        , 0.        ,\n",
       "       0.        , 0.        , 0.        , 0.        , 0.        ,\n",
       "       0.        , 0.        , 0.        , 0.        , 0.        ,\n",
       "       0.        , 0.        , 0.        , 0.        , 0.        ,\n",
       "       0.        , 0.        , 0.        , 0.        , 0.        ,\n",
       "       0.        , 0.        , 0.        , 0.        , 0.        ,\n",
       "       0.00010765, 0.00036909, 0.00036909, 0.00149173, 0.00389081,\n",
       "       0.00389081, 0.00389081, 0.00389081, 0.00392157, 0.00276817,\n",
       "       0.00073818, 0.        , 0.        , 0.        , 0.        ,\n",
       "       0.        , 0.        , 0.        , 0.        , 0.        ])"
      ]
     },
     "execution_count": 13,
     "metadata": {},
     "output_type": "execute_result"
    }
   ],
   "source": [
    "mnist_fe = mnist_fe/255\n",
    "mnist_fe[10][150:200]"
   ]
  },
  {
   "cell_type": "code",
   "execution_count": 14,
   "metadata": {},
   "outputs": [],
   "source": [
    "x_train, x_test, y_train, y_test = train_test_split(mnist_fe,\n",
    "                                                    mnist_labels,\n",
    "                                                    shuffle= True,\n",
    "                                                    test_size= 0.2)"
   ]
  },
  {
   "cell_type": "code",
   "execution_count": 15,
   "metadata": {},
   "outputs": [],
   "source": [
    "logistic = linear_model.LogisticRegression(solver= 'lbfgs',\n",
    "                                           max_iter = 1000,\n",
    "                                           multi_class = 'multinomial')\n",
    "#multinomial loss function"
   ]
  },
  {
   "cell_type": "code",
   "execution_count": 16,
   "metadata": {},
   "outputs": [
    {
     "data": {
      "text/plain": [
       "{'C': 5}"
      ]
     },
     "execution_count": 16,
     "metadata": {},
     "output_type": "execute_result"
    }
   ],
   "source": [
    "from sklearn.model_selection import GridSearchCV\n",
    "\n",
    "param_grid = [{'C': [0.1, 1, 5]}]\n",
    "\n",
    "grid_search = GridSearchCV(logistic, param_grid, cv= 2)\n",
    "grid_search.fit(x_train, y_train)\n",
    "grid_search.best_params_"
   ]
  },
  {
   "cell_type": "code",
   "execution_count": 17,
   "metadata": {},
   "outputs": [
    {
     "name": "stdout",
     "output_type": "stream",
     "text": [
      "parameter:  {'C': 0.1}\n",
      "mean test score:  0.13485119047619049\n",
      "rank:  3\n",
      "parameter:  {'C': 1}\n",
      "mean test score:  0.6574702380952381\n",
      "rank:  2\n",
      "parameter:  {'C': 5}\n",
      "mean test score:  0.7866369047619047\n",
      "rank:  1\n"
     ]
    }
   ],
   "source": [
    "for i in range(3):\n",
    "    print('parameter: ', grid_search.cv_results_['params'][i])\n",
    "    print('mean test score: ', grid_search.cv_results_['mean_test_score'][i])\n",
    "    print('rank: ', grid_search.cv_results_['rank_test_score'][i])"
   ]
  },
  {
   "cell_type": "code",
   "execution_count": 18,
   "metadata": {},
   "outputs": [],
   "source": [
    "rbm = BernoulliRBM(verbose= True)\n",
    "rbm_fe_classifier = Pipeline(steps= [('rbm', rbm),\n",
    "                                     ('logistic', logistic)])\n",
    "rbm.learning_rate= 0.06\n",
    "logistic.C = grid_search.best_params_['C']"
   ]
  },
  {
   "cell_type": "code",
   "execution_count": 19,
   "metadata": {},
   "outputs": [
    {
     "data": {
      "text/plain": [
       "dict_keys(['memory', 'steps', 'verbose', 'rbm', 'logistic', 'rbm__batch_size', 'rbm__learning_rate', 'rbm__n_components', 'rbm__n_iter', 'rbm__random_state', 'rbm__verbose', 'logistic__C', 'logistic__class_weight', 'logistic__dual', 'logistic__fit_intercept', 'logistic__intercept_scaling', 'logistic__l1_ratio', 'logistic__max_iter', 'logistic__multi_class', 'logistic__n_jobs', 'logistic__penalty', 'logistic__random_state', 'logistic__solver', 'logistic__tol', 'logistic__verbose', 'logistic__warm_start'])"
      ]
     },
     "execution_count": 19,
     "metadata": {},
     "output_type": "execute_result"
    }
   ],
   "source": [
    "rbm_fe_classifier.get_params().keys()"
   ]
  },
  {
   "cell_type": "code",
   "execution_count": 21,
   "metadata": {},
   "outputs": [
    {
     "name": "stdout",
     "output_type": "stream",
     "text": [
      "[BernoulliRBM] Iteration 1, pseudo-likelihood = -1.66, time = 1.28s\n",
      "[BernoulliRBM] Iteration 2, pseudo-likelihood = -0.94, time = 1.52s\n",
      "[BernoulliRBM] Iteration 3, pseudo-likelihood = -0.73, time = 1.25s\n",
      "[BernoulliRBM] Iteration 4, pseudo-likelihood = -0.63, time = 1.26s\n",
      "[BernoulliRBM] Iteration 5, pseudo-likelihood = -0.59, time = 1.28s\n",
      "[BernoulliRBM] Iteration 1, pseudo-likelihood = -1.67, time = 1.15s\n",
      "[BernoulliRBM] Iteration 2, pseudo-likelihood = -0.94, time = 1.35s\n",
      "[BernoulliRBM] Iteration 3, pseudo-likelihood = -0.72, time = 1.27s\n",
      "[BernoulliRBM] Iteration 4, pseudo-likelihood = -0.62, time = 1.31s\n",
      "[BernoulliRBM] Iteration 5, pseudo-likelihood = -0.58, time = 1.34s\n",
      "[BernoulliRBM] Iteration 1, pseudo-likelihood = -1.67, time = 1.18s\n",
      "[BernoulliRBM] Iteration 2, pseudo-likelihood = -0.94, time = 1.29s\n",
      "[BernoulliRBM] Iteration 3, pseudo-likelihood = -0.73, time = 1.26s\n",
      "[BernoulliRBM] Iteration 4, pseudo-likelihood = -0.64, time = 1.31s\n",
      "[BernoulliRBM] Iteration 5, pseudo-likelihood = -0.58, time = 1.29s\n",
      "[BernoulliRBM] Iteration 6, pseudo-likelihood = -0.54, time = 1.32s\n",
      "[BernoulliRBM] Iteration 7, pseudo-likelihood = -0.53, time = 1.30s\n",
      "[BernoulliRBM] Iteration 8, pseudo-likelihood = -0.51, time = 1.28s\n",
      "[BernoulliRBM] Iteration 9, pseudo-likelihood = -0.50, time = 1.28s\n",
      "[BernoulliRBM] Iteration 10, pseudo-likelihood = -0.49, time = 1.33s\n",
      "[BernoulliRBM] Iteration 11, pseudo-likelihood = -0.48, time = 1.30s\n",
      "[BernoulliRBM] Iteration 12, pseudo-likelihood = -0.47, time = 1.22s\n",
      "[BernoulliRBM] Iteration 13, pseudo-likelihood = -0.47, time = 1.26s\n",
      "[BernoulliRBM] Iteration 14, pseudo-likelihood = -0.46, time = 1.30s\n",
      "[BernoulliRBM] Iteration 15, pseudo-likelihood = -0.46, time = 1.25s\n",
      "[BernoulliRBM] Iteration 16, pseudo-likelihood = -0.46, time = 1.31s\n",
      "[BernoulliRBM] Iteration 17, pseudo-likelihood = -0.45, time = 1.28s\n",
      "[BernoulliRBM] Iteration 18, pseudo-likelihood = -0.44, time = 1.27s\n",
      "[BernoulliRBM] Iteration 19, pseudo-likelihood = -0.45, time = 1.21s\n",
      "[BernoulliRBM] Iteration 20, pseudo-likelihood = -0.43, time = 1.28s\n",
      "[BernoulliRBM] Iteration 1, pseudo-likelihood = -1.66, time = 1.17s\n",
      "[BernoulliRBM] Iteration 2, pseudo-likelihood = -0.93, time = 1.27s\n",
      "[BernoulliRBM] Iteration 3, pseudo-likelihood = -0.73, time = 1.27s\n",
      "[BernoulliRBM] Iteration 4, pseudo-likelihood = -0.63, time = 1.23s\n",
      "[BernoulliRBM] Iteration 5, pseudo-likelihood = -0.58, time = 1.29s\n",
      "[BernoulliRBM] Iteration 6, pseudo-likelihood = -0.54, time = 1.30s\n",
      "[BernoulliRBM] Iteration 7, pseudo-likelihood = -0.52, time = 1.25s\n",
      "[BernoulliRBM] Iteration 8, pseudo-likelihood = -0.50, time = 1.25s\n",
      "[BernoulliRBM] Iteration 9, pseudo-likelihood = -0.49, time = 1.22s\n",
      "[BernoulliRBM] Iteration 10, pseudo-likelihood = -0.48, time = 1.26s\n",
      "[BernoulliRBM] Iteration 11, pseudo-likelihood = -0.48, time = 1.21s\n",
      "[BernoulliRBM] Iteration 12, pseudo-likelihood = -0.47, time = 1.27s\n",
      "[BernoulliRBM] Iteration 13, pseudo-likelihood = -0.47, time = 1.31s\n",
      "[BernoulliRBM] Iteration 14, pseudo-likelihood = -0.46, time = 1.31s\n",
      "[BernoulliRBM] Iteration 15, pseudo-likelihood = -0.45, time = 1.29s\n",
      "[BernoulliRBM] Iteration 16, pseudo-likelihood = -0.46, time = 1.27s\n",
      "[BernoulliRBM] Iteration 17, pseudo-likelihood = -0.45, time = 1.24s\n",
      "[BernoulliRBM] Iteration 18, pseudo-likelihood = -0.45, time = 1.32s\n",
      "[BernoulliRBM] Iteration 19, pseudo-likelihood = -0.44, time = 1.34s\n",
      "[BernoulliRBM] Iteration 20, pseudo-likelihood = -0.44, time = 1.28s\n",
      "[BernoulliRBM] Iteration 1, pseudo-likelihood = -0.51, time = 1.96s\n",
      "[BernoulliRBM] Iteration 2, pseudo-likelihood = -0.44, time = 2.17s\n",
      "[BernoulliRBM] Iteration 3, pseudo-likelihood = -0.43, time = 2.16s\n",
      "[BernoulliRBM] Iteration 4, pseudo-likelihood = -0.43, time = 2.15s\n",
      "[BernoulliRBM] Iteration 5, pseudo-likelihood = -0.44, time = 2.25s\n",
      "[BernoulliRBM] Iteration 1, pseudo-likelihood = -0.51, time = 2.01s\n",
      "[BernoulliRBM] Iteration 2, pseudo-likelihood = -0.45, time = 2.20s\n",
      "[BernoulliRBM] Iteration 3, pseudo-likelihood = -0.43, time = 2.21s\n",
      "[BernoulliRBM] Iteration 4, pseudo-likelihood = -0.42, time = 2.15s\n",
      "[BernoulliRBM] Iteration 5, pseudo-likelihood = -0.41, time = 2.20s\n",
      "[BernoulliRBM] Iteration 1, pseudo-likelihood = -0.52, time = 1.97s\n",
      "[BernoulliRBM] Iteration 2, pseudo-likelihood = -0.45, time = 2.23s\n",
      "[BernoulliRBM] Iteration 3, pseudo-likelihood = -0.43, time = 2.15s\n",
      "[BernoulliRBM] Iteration 4, pseudo-likelihood = -0.41, time = 2.12s\n",
      "[BernoulliRBM] Iteration 5, pseudo-likelihood = -0.42, time = 2.13s\n",
      "[BernoulliRBM] Iteration 6, pseudo-likelihood = -0.43, time = 2.01s\n",
      "[BernoulliRBM] Iteration 7, pseudo-likelihood = -0.40, time = 1.91s\n",
      "[BernoulliRBM] Iteration 8, pseudo-likelihood = -0.42, time = 1.82s\n",
      "[BernoulliRBM] Iteration 9, pseudo-likelihood = -0.41, time = 1.85s\n",
      "[BernoulliRBM] Iteration 10, pseudo-likelihood = -0.42, time = 2.07s\n",
      "[BernoulliRBM] Iteration 11, pseudo-likelihood = -0.40, time = 1.84s\n",
      "[BernoulliRBM] Iteration 12, pseudo-likelihood = -0.43, time = 1.85s\n",
      "[BernoulliRBM] Iteration 13, pseudo-likelihood = -0.42, time = 1.82s\n",
      "[BernoulliRBM] Iteration 14, pseudo-likelihood = -0.41, time = 1.82s\n",
      "[BernoulliRBM] Iteration 15, pseudo-likelihood = -0.42, time = 1.83s\n",
      "[BernoulliRBM] Iteration 16, pseudo-likelihood = -0.41, time = 1.84s\n",
      "[BernoulliRBM] Iteration 17, pseudo-likelihood = -0.43, time = 1.83s\n",
      "[BernoulliRBM] Iteration 18, pseudo-likelihood = -0.40, time = 1.82s\n",
      "[BernoulliRBM] Iteration 19, pseudo-likelihood = -0.43, time = 1.84s\n",
      "[BernoulliRBM] Iteration 20, pseudo-likelihood = -0.40, time = 1.89s\n",
      "[BernoulliRBM] Iteration 1, pseudo-likelihood = -0.48, time = 1.65s\n",
      "[BernoulliRBM] Iteration 2, pseudo-likelihood = -0.45, time = 1.85s\n",
      "[BernoulliRBM] Iteration 3, pseudo-likelihood = -0.44, time = 1.86s\n",
      "[BernoulliRBM] Iteration 4, pseudo-likelihood = -0.42, time = 1.97s\n",
      "[BernoulliRBM] Iteration 5, pseudo-likelihood = -0.41, time = 2.41s\n",
      "[BernoulliRBM] Iteration 6, pseudo-likelihood = -0.40, time = 2.13s\n",
      "[BernoulliRBM] Iteration 7, pseudo-likelihood = -0.42, time = 2.18s\n",
      "[BernoulliRBM] Iteration 8, pseudo-likelihood = -0.42, time = 2.17s\n",
      "[BernoulliRBM] Iteration 9, pseudo-likelihood = -0.40, time = 2.08s\n",
      "[BernoulliRBM] Iteration 10, pseudo-likelihood = -0.41, time = 2.15s\n",
      "[BernoulliRBM] Iteration 11, pseudo-likelihood = -0.40, time = 2.08s\n",
      "[BernoulliRBM] Iteration 12, pseudo-likelihood = -0.40, time = 2.15s\n",
      "[BernoulliRBM] Iteration 13, pseudo-likelihood = -0.40, time = 2.12s\n",
      "[BernoulliRBM] Iteration 14, pseudo-likelihood = -0.41, time = 2.18s\n",
      "[BernoulliRBM] Iteration 15, pseudo-likelihood = -0.40, time = 2.19s\n",
      "[BernoulliRBM] Iteration 16, pseudo-likelihood = -0.41, time = 2.13s\n",
      "[BernoulliRBM] Iteration 17, pseudo-likelihood = -0.41, time = 2.14s\n",
      "[BernoulliRBM] Iteration 18, pseudo-likelihood = -0.42, time = 2.11s\n",
      "[BernoulliRBM] Iteration 19, pseudo-likelihood = -0.42, time = 2.10s\n",
      "[BernoulliRBM] Iteration 20, pseudo-likelihood = -0.40, time = 2.09s\n",
      "[BernoulliRBM] Iteration 1, pseudo-likelihood = -0.45, time = 2.60s\n",
      "[BernoulliRBM] Iteration 2, pseudo-likelihood = -0.41, time = 2.99s\n",
      "[BernoulliRBM] Iteration 3, pseudo-likelihood = -0.41, time = 3.00s\n",
      "[BernoulliRBM] Iteration 4, pseudo-likelihood = -0.44, time = 3.01s\n",
      "[BernoulliRBM] Iteration 5, pseudo-likelihood = -0.40, time = 3.15s\n",
      "[BernoulliRBM] Iteration 1, pseudo-likelihood = -0.47, time = 2.77s\n",
      "[BernoulliRBM] Iteration 2, pseudo-likelihood = -0.44, time = 3.17s\n",
      "[BernoulliRBM] Iteration 3, pseudo-likelihood = -0.43, time = 3.17s\n",
      "[BernoulliRBM] Iteration 4, pseudo-likelihood = -0.43, time = 3.08s\n",
      "[BernoulliRBM] Iteration 5, pseudo-likelihood = -0.40, time = 2.91s\n",
      "[BernoulliRBM] Iteration 1, pseudo-likelihood = -0.44, time = 2.87s\n",
      "[BernoulliRBM] Iteration 2, pseudo-likelihood = -0.44, time = 3.04s\n",
      "[BernoulliRBM] Iteration 3, pseudo-likelihood = -0.43, time = 2.96s\n",
      "[BernoulliRBM] Iteration 4, pseudo-likelihood = -0.41, time = 3.15s\n",
      "[BernoulliRBM] Iteration 5, pseudo-likelihood = -0.41, time = 3.00s\n",
      "[BernoulliRBM] Iteration 6, pseudo-likelihood = -0.42, time = 3.41s\n",
      "[BernoulliRBM] Iteration 7, pseudo-likelihood = -0.40, time = 2.67s\n",
      "[BernoulliRBM] Iteration 8, pseudo-likelihood = -0.43, time = 2.68s\n",
      "[BernoulliRBM] Iteration 9, pseudo-likelihood = -0.45, time = 2.69s\n",
      "[BernoulliRBM] Iteration 10, pseudo-likelihood = -0.41, time = 2.18s\n"
     ]
    },
    {
     "name": "stdout",
     "output_type": "stream",
     "text": [
      "[BernoulliRBM] Iteration 11, pseudo-likelihood = -0.41, time = 1.89s\n",
      "[BernoulliRBM] Iteration 12, pseudo-likelihood = -0.43, time = 1.97s\n",
      "[BernoulliRBM] Iteration 13, pseudo-likelihood = -0.42, time = 1.82s\n",
      "[BernoulliRBM] Iteration 14, pseudo-likelihood = -0.39, time = 2.04s\n",
      "[BernoulliRBM] Iteration 15, pseudo-likelihood = -0.44, time = 1.74s\n",
      "[BernoulliRBM] Iteration 16, pseudo-likelihood = -0.41, time = 1.72s\n",
      "[BernoulliRBM] Iteration 17, pseudo-likelihood = -0.41, time = 1.74s\n",
      "[BernoulliRBM] Iteration 18, pseudo-likelihood = -0.39, time = 1.73s\n",
      "[BernoulliRBM] Iteration 19, pseudo-likelihood = -0.42, time = 1.72s\n",
      "[BernoulliRBM] Iteration 20, pseudo-likelihood = -0.41, time = 1.73s\n",
      "[BernoulliRBM] Iteration 1, pseudo-likelihood = -0.44, time = 1.59s\n",
      "[BernoulliRBM] Iteration 2, pseudo-likelihood = -0.44, time = 1.85s\n",
      "[BernoulliRBM] Iteration 3, pseudo-likelihood = -0.41, time = 1.82s\n",
      "[BernoulliRBM] Iteration 4, pseudo-likelihood = -0.41, time = 1.89s\n",
      "[BernoulliRBM] Iteration 5, pseudo-likelihood = -0.40, time = 1.81s\n",
      "[BernoulliRBM] Iteration 6, pseudo-likelihood = -0.41, time = 1.99s\n",
      "[BernoulliRBM] Iteration 7, pseudo-likelihood = -0.41, time = 2.06s\n",
      "[BernoulliRBM] Iteration 8, pseudo-likelihood = -0.41, time = 1.86s\n",
      "[BernoulliRBM] Iteration 9, pseudo-likelihood = -0.41, time = 1.76s\n",
      "[BernoulliRBM] Iteration 10, pseudo-likelihood = -0.40, time = 1.77s\n",
      "[BernoulliRBM] Iteration 11, pseudo-likelihood = -0.39, time = 1.77s\n",
      "[BernoulliRBM] Iteration 12, pseudo-likelihood = -0.45, time = 1.73s\n",
      "[BernoulliRBM] Iteration 13, pseudo-likelihood = -0.41, time = 1.98s\n",
      "[BernoulliRBM] Iteration 14, pseudo-likelihood = -0.42, time = 1.83s\n",
      "[BernoulliRBM] Iteration 15, pseudo-likelihood = -0.41, time = 2.00s\n",
      "[BernoulliRBM] Iteration 16, pseudo-likelihood = -0.40, time = 1.74s\n",
      "[BernoulliRBM] Iteration 17, pseudo-likelihood = -0.41, time = 1.74s\n",
      "[BernoulliRBM] Iteration 18, pseudo-likelihood = -0.42, time = 1.75s\n",
      "[BernoulliRBM] Iteration 19, pseudo-likelihood = -0.39, time = 1.74s\n",
      "[BernoulliRBM] Iteration 20, pseudo-likelihood = -0.41, time = 1.75s\n",
      "[BernoulliRBM] Iteration 1, pseudo-likelihood = -0.45, time = 1.96s\n",
      "[BernoulliRBM] Iteration 2, pseudo-likelihood = -0.44, time = 2.23s\n",
      "[BernoulliRBM] Iteration 3, pseudo-likelihood = -0.42, time = 2.25s\n",
      "[BernoulliRBM] Iteration 4, pseudo-likelihood = -0.43, time = 2.24s\n",
      "[BernoulliRBM] Iteration 5, pseudo-likelihood = -0.42, time = 2.26s\n",
      "[BernoulliRBM] Iteration 1, pseudo-likelihood = -0.43, time = 1.97s\n",
      "[BernoulliRBM] Iteration 2, pseudo-likelihood = -0.41, time = 2.38s\n",
      "[BernoulliRBM] Iteration 3, pseudo-likelihood = -0.44, time = 2.37s\n",
      "[BernoulliRBM] Iteration 4, pseudo-likelihood = -0.38, time = 2.46s\n",
      "[BernoulliRBM] Iteration 5, pseudo-likelihood = -0.40, time = 2.38s\n",
      "[BernoulliRBM] Iteration 1, pseudo-likelihood = -0.45, time = 2.28s\n",
      "[BernoulliRBM] Iteration 2, pseudo-likelihood = -0.41, time = 2.36s\n",
      "[BernoulliRBM] Iteration 3, pseudo-likelihood = -0.39, time = 2.41s\n",
      "[BernoulliRBM] Iteration 4, pseudo-likelihood = -0.41, time = 2.25s\n",
      "[BernoulliRBM] Iteration 5, pseudo-likelihood = -0.41, time = 2.71s\n",
      "[BernoulliRBM] Iteration 6, pseudo-likelihood = -0.41, time = 2.77s\n",
      "[BernoulliRBM] Iteration 7, pseudo-likelihood = -0.39, time = 3.03s\n",
      "[BernoulliRBM] Iteration 8, pseudo-likelihood = -0.42, time = 2.47s\n",
      "[BernoulliRBM] Iteration 9, pseudo-likelihood = -0.38, time = 2.43s\n",
      "[BernoulliRBM] Iteration 10, pseudo-likelihood = -0.42, time = 2.57s\n",
      "[BernoulliRBM] Iteration 11, pseudo-likelihood = -0.41, time = 2.55s\n",
      "[BernoulliRBM] Iteration 12, pseudo-likelihood = -0.39, time = 2.53s\n",
      "[BernoulliRBM] Iteration 13, pseudo-likelihood = -0.40, time = 2.41s\n",
      "[BernoulliRBM] Iteration 14, pseudo-likelihood = -0.40, time = 2.47s\n",
      "[BernoulliRBM] Iteration 15, pseudo-likelihood = -0.41, time = 2.54s\n",
      "[BernoulliRBM] Iteration 16, pseudo-likelihood = -0.41, time = 2.48s\n",
      "[BernoulliRBM] Iteration 17, pseudo-likelihood = -0.40, time = 3.13s\n",
      "[BernoulliRBM] Iteration 18, pseudo-likelihood = -0.39, time = 2.44s\n",
      "[BernoulliRBM] Iteration 19, pseudo-likelihood = -0.40, time = 2.36s\n",
      "[BernoulliRBM] Iteration 20, pseudo-likelihood = -0.42, time = 2.41s\n",
      "[BernoulliRBM] Iteration 1, pseudo-likelihood = -0.43, time = 2.29s\n",
      "[BernoulliRBM] Iteration 2, pseudo-likelihood = -0.43, time = 2.30s\n",
      "[BernoulliRBM] Iteration 3, pseudo-likelihood = -0.41, time = 2.31s\n",
      "[BernoulliRBM] Iteration 4, pseudo-likelihood = -0.41, time = 2.32s\n",
      "[BernoulliRBM] Iteration 5, pseudo-likelihood = -0.40, time = 2.23s\n",
      "[BernoulliRBM] Iteration 6, pseudo-likelihood = -0.38, time = 2.35s\n",
      "[BernoulliRBM] Iteration 7, pseudo-likelihood = -0.42, time = 2.46s\n",
      "[BernoulliRBM] Iteration 8, pseudo-likelihood = -0.41, time = 2.37s\n",
      "[BernoulliRBM] Iteration 9, pseudo-likelihood = -0.41, time = 2.45s\n",
      "[BernoulliRBM] Iteration 10, pseudo-likelihood = -0.38, time = 2.26s\n",
      "[BernoulliRBM] Iteration 11, pseudo-likelihood = -0.40, time = 2.39s\n",
      "[BernoulliRBM] Iteration 12, pseudo-likelihood = -0.41, time = 2.26s\n",
      "[BernoulliRBM] Iteration 13, pseudo-likelihood = -0.37, time = 2.36s\n",
      "[BernoulliRBM] Iteration 14, pseudo-likelihood = -0.42, time = 2.38s\n",
      "[BernoulliRBM] Iteration 15, pseudo-likelihood = -0.41, time = 2.52s\n",
      "[BernoulliRBM] Iteration 16, pseudo-likelihood = -0.38, time = 2.33s\n",
      "[BernoulliRBM] Iteration 17, pseudo-likelihood = -0.40, time = 2.25s\n",
      "[BernoulliRBM] Iteration 18, pseudo-likelihood = -0.44, time = 2.29s\n",
      "[BernoulliRBM] Iteration 19, pseudo-likelihood = -0.41, time = 2.34s\n",
      "[BernoulliRBM] Iteration 20, pseudo-likelihood = -0.39, time = 2.34s\n",
      "[BernoulliRBM] Iteration 1, pseudo-likelihood = -0.94, time = 1.36s\n",
      "[BernoulliRBM] Iteration 2, pseudo-likelihood = -0.62, time = 1.53s\n",
      "[BernoulliRBM] Iteration 3, pseudo-likelihood = -0.54, time = 1.46s\n",
      "[BernoulliRBM] Iteration 4, pseudo-likelihood = -0.50, time = 1.46s\n",
      "[BernoulliRBM] Iteration 5, pseudo-likelihood = -0.48, time = 1.48s\n"
     ]
    },
    {
     "data": {
      "text/plain": [
       "{'rbm__n_components': 5, 'rbm__n_iter': 5}"
      ]
     },
     "execution_count": 21,
     "metadata": {},
     "output_type": "execute_result"
    }
   ],
   "source": [
    "param_grid = [{'rbm__n_components' : [5, 50, 100, 150],\n",
    "               'rbm__n_iter' : [5, 20]}]\n",
    "\n",
    "grid_search = GridSearchCV(rbm_fe_classifier, param_grid, cv= 2)\n",
    "grid_search.fit(x_train, y_train)\n",
    "grid_search.best_params_"
   ]
  },
  {
   "cell_type": "code",
   "execution_count": 22,
   "metadata": {},
   "outputs": [
    {
     "name": "stdout",
     "output_type": "stream",
     "text": [
      "parameter:  {'rbm__n_components': 5, 'rbm__n_iter': 5}\n",
      "mean test score:  0.11136904761904762\n",
      "rank:  1\n",
      "parameter:  {'rbm__n_components': 5, 'rbm__n_iter': 20}\n",
      "mean test score:  0.11136904761904762\n",
      "rank:  1\n",
      "parameter:  {'rbm__n_components': 50, 'rbm__n_iter': 5}\n",
      "mean test score:  0.11136904761904762\n",
      "rank:  1\n",
      "parameter:  {'rbm__n_components': 50, 'rbm__n_iter': 20}\n",
      "mean test score:  0.11136904761904762\n",
      "rank:  1\n",
      "parameter:  {'rbm__n_components': 100, 'rbm__n_iter': 5}\n",
      "mean test score:  0.11136904761904762\n",
      "rank:  1\n",
      "parameter:  {'rbm__n_components': 100, 'rbm__n_iter': 20}\n",
      "mean test score:  0.11136904761904762\n",
      "rank:  1\n",
      "parameter:  {'rbm__n_components': 150, 'rbm__n_iter': 5}\n",
      "mean test score:  0.11136904761904762\n",
      "rank:  1\n",
      "parameter:  {'rbm__n_components': 150, 'rbm__n_iter': 20}\n",
      "mean test score:  0.11136904761904762\n",
      "rank:  1\n"
     ]
    }
   ],
   "source": [
    "for i in range(8):\n",
    "    print('parameter: ', grid_search.cv_results_['params'][i])\n",
    "    print('mean test score: ', grid_search.cv_results_['mean_test_score'][i])\n",
    "    print('rank: ', grid_search.cv_results_['rank_test_score'][i])"
   ]
  },
  {
   "cell_type": "code",
   "execution_count": null,
   "metadata": {},
   "outputs": [],
   "source": []
  }
 ],
 "metadata": {
  "kernelspec": {
   "display_name": "Python 3",
   "language": "python",
   "name": "python3"
  },
  "language_info": {
   "codemirror_mode": {
    "name": "ipython",
    "version": 3
   },
   "file_extension": ".py",
   "mimetype": "text/x-python",
   "name": "python",
   "nbconvert_exporter": "python",
   "pygments_lexer": "ipython3",
   "version": "3.7.6"
  }
 },
 "nbformat": 4,
 "nbformat_minor": 4
}
