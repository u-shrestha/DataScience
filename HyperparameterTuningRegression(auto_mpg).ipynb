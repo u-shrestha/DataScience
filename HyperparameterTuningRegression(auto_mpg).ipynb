{
 "cells": [
  {
   "cell_type": "code",
   "execution_count": 1,
   "metadata": {},
   "outputs": [],
   "source": [
    "import pandas as pd\n",
    "import numpy as np\n",
    "import matplotlib.pyplot as plt\n",
    "\n",
    "from sklearn.model_selection import train_test_split\n",
    "from sklearn.metrics import r2_score\n",
    "from sklearn.preprocessing import StandardScaler\n",
    "\n",
    "from sklearn.linear_model import Lasso\n",
    "from sklearn.neighbors import KNeighborsRegressor\n",
    "from sklearn.tree import DecisionTreeRegressor\n",
    "from sklearn.svm import SVR\n",
    "\n",
    "from sklearn.model_selection import GridSearchCV"
   ]
  },
  {
   "cell_type": "code",
   "execution_count": 2,
   "metadata": {},
   "outputs": [
    {
     "data": {
      "text/html": [
       "<div>\n",
       "<style scoped>\n",
       "    .dataframe tbody tr th:only-of-type {\n",
       "        vertical-align: middle;\n",
       "    }\n",
       "\n",
       "    .dataframe tbody tr th {\n",
       "        vertical-align: top;\n",
       "    }\n",
       "\n",
       "    .dataframe thead th {\n",
       "        text-align: right;\n",
       "    }\n",
       "</style>\n",
       "<table border=\"1\" class=\"dataframe\">\n",
       "  <thead>\n",
       "    <tr style=\"text-align: right;\">\n",
       "      <th></th>\n",
       "      <th>mpg</th>\n",
       "      <th>cylinders</th>\n",
       "      <th>displacement</th>\n",
       "      <th>horsepower</th>\n",
       "      <th>weight</th>\n",
       "      <th>acceleration</th>\n",
       "      <th>age</th>\n",
       "    </tr>\n",
       "  </thead>\n",
       "  <tbody>\n",
       "    <tr>\n",
       "      <th>0</th>\n",
       "      <td>20.5</td>\n",
       "      <td>6</td>\n",
       "      <td>200.0</td>\n",
       "      <td>95</td>\n",
       "      <td>3155</td>\n",
       "      <td>18.2</td>\n",
       "      <td>42</td>\n",
       "    </tr>\n",
       "    <tr>\n",
       "      <th>1</th>\n",
       "      <td>23.0</td>\n",
       "      <td>8</td>\n",
       "      <td>350.0</td>\n",
       "      <td>125</td>\n",
       "      <td>3900</td>\n",
       "      <td>17.4</td>\n",
       "      <td>41</td>\n",
       "    </tr>\n",
       "    <tr>\n",
       "      <th>2</th>\n",
       "      <td>23.0</td>\n",
       "      <td>4</td>\n",
       "      <td>122.0</td>\n",
       "      <td>86</td>\n",
       "      <td>2220</td>\n",
       "      <td>14.0</td>\n",
       "      <td>49</td>\n",
       "    </tr>\n",
       "    <tr>\n",
       "      <th>3</th>\n",
       "      <td>30.0</td>\n",
       "      <td>4</td>\n",
       "      <td>111.0</td>\n",
       "      <td>80</td>\n",
       "      <td>2155</td>\n",
       "      <td>14.8</td>\n",
       "      <td>43</td>\n",
       "    </tr>\n",
       "    <tr>\n",
       "      <th>4</th>\n",
       "      <td>12.0</td>\n",
       "      <td>8</td>\n",
       "      <td>350.0</td>\n",
       "      <td>180</td>\n",
       "      <td>4499</td>\n",
       "      <td>12.5</td>\n",
       "      <td>47</td>\n",
       "    </tr>\n",
       "  </tbody>\n",
       "</table>\n",
       "</div>"
      ],
      "text/plain": [
       "    mpg  cylinders  displacement  horsepower  weight  acceleration  age\n",
       "0  20.5          6         200.0          95    3155          18.2   42\n",
       "1  23.0          8         350.0         125    3900          17.4   41\n",
       "2  23.0          4         122.0          86    2220          14.0   49\n",
       "3  30.0          4         111.0          80    2155          14.8   43\n",
       "4  12.0          8         350.0         180    4499          12.5   47"
      ]
     },
     "execution_count": 2,
     "metadata": {},
     "output_type": "execute_result"
    }
   ],
   "source": [
    "automobile = pd.read_csv('datasets/auto-mpg_processed.csv')\n",
    "automobile.head()"
   ]
  },
  {
   "cell_type": "code",
   "execution_count": 3,
   "metadata": {},
   "outputs": [],
   "source": [
    "X= automobile.drop(['mpg', 'age'], axis= 1)\n",
    "Y= automobile['mpg']\n",
    "x_train, x_test, y_train, y_test = train_test_split(X, Y, test_size= 0.2)"
   ]
  },
  {
   "cell_type": "markdown",
   "metadata": {},
   "source": [
    "### lasso regression"
   ]
  },
  {
   "cell_type": "code",
   "execution_count": 4,
   "metadata": {},
   "outputs": [
    {
     "data": {
      "text/plain": [
       "{'alpha': 0.9}"
      ]
     },
     "execution_count": 4,
     "metadata": {},
     "output_type": "execute_result"
    }
   ],
   "source": [
    "parameters = {'alpha': [0.1, 0.2, 0.4, 0.6, 0.7, 0.8, 0.9, 1.0]}\n",
    "\n",
    "grid_search = GridSearchCV(Lasso(), parameters, cv= 3, return_train_score= True)\n",
    "grid_search.fit(x_train, y_train)\n",
    "\n",
    "grid_search.best_params_"
   ]
  },
  {
   "cell_type": "code",
   "execution_count": 5,
   "metadata": {},
   "outputs": [
    {
     "name": "stdout",
     "output_type": "stream",
     "text": [
      "parameters:  {'alpha': 0.1}\n",
      "mean test score:  0.6837901915221433\n",
      "rank:  8\n",
      "parameters:  {'alpha': 0.2}\n",
      "mean test score:  0.6862453448317135\n",
      "rank:  7\n",
      "parameters:  {'alpha': 0.4}\n",
      "mean test score:  0.6880989112879442\n",
      "rank:  6\n",
      "parameters:  {'alpha': 0.6}\n",
      "mean test score:  0.6885905225660172\n",
      "rank:  5\n",
      "parameters:  {'alpha': 0.7}\n",
      "mean test score:  0.6887519922451902\n",
      "rank:  4\n",
      "parameters:  {'alpha': 0.8}\n",
      "mean test score:  0.6887535192377765\n",
      "rank:  3\n",
      "parameters:  {'alpha': 0.9}\n",
      "mean test score:  0.6887542741221737\n",
      "rank:  1\n",
      "parameters:  {'alpha': 1.0}\n",
      "mean test score:  0.688753786902588\n",
      "rank:  2\n"
     ]
    }
   ],
   "source": [
    "for i in range(len(parameters['alpha'])):\n",
    "    print(\"parameters: \", grid_search.cv_results_['params'][i])\n",
    "    \n",
    "    print(\"mean test score: \", grid_search.cv_results_['mean_test_score'][i])\n",
    "    \n",
    "    print(\"rank: \", grid_search.cv_results_['rank_test_score'][i])"
   ]
  },
  {
   "cell_type": "code",
   "execution_count": 6,
   "metadata": {},
   "outputs": [],
   "source": [
    "lasso_model= Lasso(alpha= grid_search.best_params_['alpha']).fit(x_train, y_train)"
   ]
  },
  {
   "cell_type": "code",
   "execution_count": 7,
   "metadata": {},
   "outputs": [
    {
     "name": "stdout",
     "output_type": "stream",
     "text": [
      "training score:  0.6910683778716977\n",
      "test score:  0.7648906003055441\n"
     ]
    }
   ],
   "source": [
    "y_pred = lasso_model.predict(x_test)\n",
    "\n",
    "print('training score: ', lasso_model.score(x_train, y_train))\n",
    "print('test score: ', r2_score(y_test, y_pred))"
   ]
  },
  {
   "cell_type": "markdown",
   "metadata": {},
   "source": [
    "### knn regression"
   ]
  },
  {
   "cell_type": "code",
   "execution_count": 9,
   "metadata": {},
   "outputs": [
    {
     "data": {
      "text/plain": [
       "{'n_neighbors': 25}"
      ]
     },
     "execution_count": 9,
     "metadata": {},
     "output_type": "execute_result"
    }
   ],
   "source": [
    "parameters = {'n_neighbors': [10, 12, 14, 16, 18, 20, 25, 30, 35, 40, 45, 50]}\n",
    "\n",
    "grid_search = GridSearchCV(KNeighborsRegressor(), parameters, cv= 3, return_train_score= True)\n",
    "grid_search.fit(x_train, y_train)\n",
    "\n",
    "grid_search.best_params_"
   ]
  },
  {
   "cell_type": "code",
   "execution_count": 10,
   "metadata": {},
   "outputs": [
    {
     "name": "stdout",
     "output_type": "stream",
     "text": [
      "parameters:  {'n_neighbors': 10}\n",
      "mean test score:  0.6675315010766033\n",
      "rank:  12\n",
      "parameters:  {'n_neighbors': 12}\n",
      "mean test score:  0.6687993153840169\n",
      "rank:  11\n",
      "parameters:  {'n_neighbors': 14}\n",
      "mean test score:  0.6713343673786477\n",
      "rank:  10\n",
      "parameters:  {'n_neighbors': 16}\n",
      "mean test score:  0.671457573710172\n",
      "rank:  9\n",
      "parameters:  {'n_neighbors': 18}\n",
      "mean test score:  0.6779637736537177\n",
      "rank:  8\n",
      "parameters:  {'n_neighbors': 20}\n",
      "mean test score:  0.6818826733871391\n",
      "rank:  7\n",
      "parameters:  {'n_neighbors': 25}\n",
      "mean test score:  0.686021817798748\n",
      "rank:  1\n",
      "parameters:  {'n_neighbors': 30}\n",
      "mean test score:  0.6844318039127716\n",
      "rank:  3\n",
      "parameters:  {'n_neighbors': 35}\n",
      "mean test score:  0.6840250172116648\n",
      "rank:  4\n",
      "parameters:  {'n_neighbors': 40}\n",
      "mean test score:  0.6857372708663699\n",
      "rank:  2\n",
      "parameters:  {'n_neighbors': 45}\n",
      "mean test score:  0.6819218821713067\n",
      "rank:  6\n",
      "parameters:  {'n_neighbors': 50}\n",
      "mean test score:  0.6835746457986215\n",
      "rank:  5\n"
     ]
    }
   ],
   "source": [
    "for i in range(len(parameters['n_neighbors'])):\n",
    "    print(\"parameters: \", grid_search.cv_results_['params'][i])\n",
    "    \n",
    "    print(\"mean test score: \", grid_search.cv_results_['mean_test_score'][i])\n",
    "    \n",
    "    print(\"rank: \", grid_search.cv_results_['rank_test_score'][i])"
   ]
  },
  {
   "cell_type": "code",
   "execution_count": 11,
   "metadata": {},
   "outputs": [
    {
     "name": "stdout",
     "output_type": "stream",
     "text": [
      "training score:  0.7106841795839849\n",
      "test score:  0.7937179863160635\n"
     ]
    }
   ],
   "source": [
    "knn_model= KNeighborsRegressor(n_neighbors= grid_search.best_params_['n_neighbors']).fit(x_train, y_train)\n",
    "\n",
    "y_pred = knn_model.predict(x_test)\n",
    "\n",
    "print('training score: ', knn_model.score(x_train, y_train))\n",
    "print('test score: ', r2_score(y_test, y_pred))\n"
   ]
  },
  {
   "cell_type": "markdown",
   "metadata": {},
   "source": [
    "### decision tree regression"
   ]
  },
  {
   "cell_type": "code",
   "execution_count": 12,
   "metadata": {},
   "outputs": [
    {
     "data": {
      "text/plain": [
       "{'max_depth': 3}"
      ]
     },
     "execution_count": 12,
     "metadata": {},
     "output_type": "execute_result"
    }
   ],
   "source": [
    "parameters = {'max_depth': [1, 2, 3, 4, 5, 6, 7, 8, 9, 10, 12]}\n",
    "\n",
    "grid_search = GridSearchCV(DecisionTreeRegressor(), parameters, cv= 3, return_train_score= True)\n",
    "grid_search.fit(x_train, y_train)\n",
    "\n",
    "grid_search.best_params_"
   ]
  },
  {
   "cell_type": "code",
   "execution_count": 13,
   "metadata": {},
   "outputs": [
    {
     "name": "stdout",
     "output_type": "stream",
     "text": [
      "parameters:  {'max_depth': 1}\n",
      "mean test score:  0.5300277865754078\n",
      "rank:  10\n",
      "parameters:  {'max_depth': 2}\n",
      "mean test score:  0.6715974925708866\n",
      "rank:  3\n",
      "parameters:  {'max_depth': 3}\n",
      "mean test score:  0.7134432630948052\n",
      "rank:  1\n",
      "parameters:  {'max_depth': 4}\n",
      "mean test score:  0.6969690583247917\n",
      "rank:  2\n",
      "parameters:  {'max_depth': 5}\n",
      "mean test score:  0.6673691084839782\n",
      "rank:  4\n",
      "parameters:  {'max_depth': 6}\n",
      "mean test score:  0.6295214143926017\n",
      "rank:  5\n",
      "parameters:  {'max_depth': 7}\n",
      "mean test score:  0.5621704455006453\n",
      "rank:  7\n",
      "parameters:  {'max_depth': 8}\n",
      "mean test score:  0.550083456206375\n",
      "rank:  8\n",
      "parameters:  {'max_depth': 9}\n",
      "mean test score:  0.5754979947739165\n",
      "rank:  6\n",
      "parameters:  {'max_depth': 10}\n",
      "mean test score:  0.5437574746005729\n",
      "rank:  9\n",
      "parameters:  {'max_depth': 12}\n",
      "mean test score:  0.5228448504139426\n",
      "rank:  11\n"
     ]
    }
   ],
   "source": [
    "for i in range(len(parameters['max_depth'])):\n",
    "    print(\"parameters: \", grid_search.cv_results_['params'][i])\n",
    "    \n",
    "    print(\"mean test score: \", grid_search.cv_results_['mean_test_score'][i])\n",
    "    \n",
    "    print(\"rank: \", grid_search.cv_results_['rank_test_score'][i])"
   ]
  },
  {
   "cell_type": "code",
   "execution_count": 14,
   "metadata": {},
   "outputs": [
    {
     "name": "stdout",
     "output_type": "stream",
     "text": [
      "training score:  0.7762537758177225\n",
      "test score:  0.7012166808816707\n"
     ]
    }
   ],
   "source": [
    "decision_tree_model= DecisionTreeRegressor(max_depth= grid_search.best_params_['max_depth']).fit(x_train, y_train)\n",
    "\n",
    "y_pred = decision_tree_model.predict(x_test)\n",
    "\n",
    "print('training score: ', decision_tree_model.score(x_train, y_train))\n",
    "print('test score: ', r2_score(y_test, y_pred))\n"
   ]
  },
  {
   "cell_type": "markdown",
   "metadata": {},
   "source": [
    "### SVR"
   ]
  },
  {
   "cell_type": "code",
   "execution_count": 15,
   "metadata": {},
   "outputs": [
    {
     "data": {
      "text/plain": [
       "{'C': 0.3, 'epsilon': 0.3}"
      ]
     },
     "execution_count": 15,
     "metadata": {},
     "output_type": "execute_result"
    }
   ],
   "source": [
    "parameters = {'epsilon': [0.05, 0.1, 0.2, 0.3],\n",
    "              'C': [0.2, 0.3, 0.4]}\n",
    "\n",
    "grid_search = GridSearchCV(SVR(kernel= 'linear'), parameters, cv= 3, return_train_score= True)\n",
    "grid_search.fit(x_train, y_train)\n",
    "\n",
    "grid_search.best_params_"
   ]
  },
  {
   "cell_type": "code",
   "execution_count": 16,
   "metadata": {},
   "outputs": [
    {
     "name": "stdout",
     "output_type": "stream",
     "text": [
      "training score:  0.681773852493753\n",
      "test score:  0.7626850967458925\n"
     ]
    }
   ],
   "source": [
    "svr_model= SVR(kernel= 'linear',\n",
    "               epsilon = grid_search.best_params_['epsilon'],\n",
    "               C = grid_search.best_params_['C']).fit(x_train, y_train)\n",
    "\n",
    "y_pred = svr_model.predict(x_test)\n",
    "\n",
    "print('training score: ', svr_model.score(x_train, y_train))\n",
    "print('test score: ', r2_score(y_test, y_pred))\n"
   ]
  }
 ],
 "metadata": {
  "kernelspec": {
   "display_name": "Python 3",
   "language": "python",
   "name": "python3"
  },
  "language_info": {
   "codemirror_mode": {
    "name": "ipython",
    "version": 3
   },
   "file_extension": ".py",
   "mimetype": "text/x-python",
   "name": "python",
   "nbconvert_exporter": "python",
   "pygments_lexer": "ipython3",
   "version": "3.7.6"
  }
 },
 "nbformat": 4,
 "nbformat_minor": 4
}
