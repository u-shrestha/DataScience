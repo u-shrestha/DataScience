{
 "cells": [
  {
   "cell_type": "code",
   "execution_count": 1,
   "metadata": {},
   "outputs": [],
   "source": [
    "import pandas as pd\n",
    "import matplotlib.pyplot as plt\n",
    "\n",
    "from sklearn.model_selection import train_test_split\n",
    "from sklearn.metrics import r2_score"
   ]
  },
  {
   "cell_type": "code",
   "execution_count": 2,
   "metadata": {},
   "outputs": [
    {
     "data": {
      "text/html": [
       "<div>\n",
       "<style scoped>\n",
       "    .dataframe tbody tr th:only-of-type {\n",
       "        vertical-align: middle;\n",
       "    }\n",
       "\n",
       "    .dataframe tbody tr th {\n",
       "        vertical-align: top;\n",
       "    }\n",
       "\n",
       "    .dataframe thead th {\n",
       "        text-align: right;\n",
       "    }\n",
       "</style>\n",
       "<table border=\"1\" class=\"dataframe\">\n",
       "  <thead>\n",
       "    <tr style=\"text-align: right;\">\n",
       "      <th></th>\n",
       "      <th>clarity</th>\n",
       "      <th>price</th>\n",
       "      <th>cut_Fair</th>\n",
       "      <th>cut_Good</th>\n",
       "      <th>cut_Ideal</th>\n",
       "      <th>cut_Premium</th>\n",
       "      <th>cut_Very Good</th>\n",
       "      <th>color_D</th>\n",
       "      <th>color_E</th>\n",
       "      <th>color_F</th>\n",
       "      <th>color_G</th>\n",
       "      <th>color_H</th>\n",
       "      <th>color_I</th>\n",
       "      <th>color_J</th>\n",
       "      <th>carat</th>\n",
       "      <th>depth</th>\n",
       "      <th>table</th>\n",
       "      <th>x</th>\n",
       "      <th>y</th>\n",
       "      <th>z</th>\n",
       "    </tr>\n",
       "  </thead>\n",
       "  <tbody>\n",
       "    <tr>\n",
       "      <th>0</th>\n",
       "      <td>4</td>\n",
       "      <td>11053</td>\n",
       "      <td>0</td>\n",
       "      <td>0</td>\n",
       "      <td>1</td>\n",
       "      <td>0</td>\n",
       "      <td>0</td>\n",
       "      <td>1</td>\n",
       "      <td>0</td>\n",
       "      <td>0</td>\n",
       "      <td>0</td>\n",
       "      <td>0</td>\n",
       "      <td>0</td>\n",
       "      <td>0</td>\n",
       "      <td>0.850260</td>\n",
       "      <td>-0.524181</td>\n",
       "      <td>0.691311</td>\n",
       "      <td>0.945060</td>\n",
       "      <td>0.997975</td>\n",
       "      <td>0.878502</td>\n",
       "    </tr>\n",
       "    <tr>\n",
       "      <th>1</th>\n",
       "      <td>6</td>\n",
       "      <td>684</td>\n",
       "      <td>0</td>\n",
       "      <td>0</td>\n",
       "      <td>0</td>\n",
       "      <td>0</td>\n",
       "      <td>1</td>\n",
       "      <td>0</td>\n",
       "      <td>0</td>\n",
       "      <td>0</td>\n",
       "      <td>0</td>\n",
       "      <td>1</td>\n",
       "      <td>0</td>\n",
       "      <td>0</td>\n",
       "      <td>-1.049586</td>\n",
       "      <td>0.173808</td>\n",
       "      <td>0.691311</td>\n",
       "      <td>-1.309331</td>\n",
       "      <td>-1.286354</td>\n",
       "      <td>-1.253220</td>\n",
       "    </tr>\n",
       "    <tr>\n",
       "      <th>2</th>\n",
       "      <td>3</td>\n",
       "      <td>3921</td>\n",
       "      <td>0</td>\n",
       "      <td>0</td>\n",
       "      <td>0</td>\n",
       "      <td>1</td>\n",
       "      <td>0</td>\n",
       "      <td>0</td>\n",
       "      <td>0</td>\n",
       "      <td>0</td>\n",
       "      <td>0</td>\n",
       "      <td>1</td>\n",
       "      <td>0</td>\n",
       "      <td>0</td>\n",
       "      <td>0.238088</td>\n",
       "      <td>-1.501367</td>\n",
       "      <td>1.138560</td>\n",
       "      <td>0.463886</td>\n",
       "      <td>0.498278</td>\n",
       "      <td>0.285573</td>\n",
       "    </tr>\n",
       "    <tr>\n",
       "      <th>3</th>\n",
       "      <td>3</td>\n",
       "      <td>4043</td>\n",
       "      <td>0</td>\n",
       "      <td>0</td>\n",
       "      <td>1</td>\n",
       "      <td>0</td>\n",
       "      <td>0</td>\n",
       "      <td>0</td>\n",
       "      <td>0</td>\n",
       "      <td>1</td>\n",
       "      <td>0</td>\n",
       "      <td>0</td>\n",
       "      <td>0</td>\n",
       "      <td>0</td>\n",
       "      <td>0.005884</td>\n",
       "      <td>0.243607</td>\n",
       "      <td>-0.650436</td>\n",
       "      <td>0.178745</td>\n",
       "      <td>0.221660</td>\n",
       "      <td>0.229104</td>\n",
       "    </tr>\n",
       "    <tr>\n",
       "      <th>4</th>\n",
       "      <td>1</td>\n",
       "      <td>4751</td>\n",
       "      <td>0</td>\n",
       "      <td>0</td>\n",
       "      <td>1</td>\n",
       "      <td>0</td>\n",
       "      <td>0</td>\n",
       "      <td>0</td>\n",
       "      <td>1</td>\n",
       "      <td>0</td>\n",
       "      <td>0</td>\n",
       "      <td>0</td>\n",
       "      <td>0</td>\n",
       "      <td>0</td>\n",
       "      <td>0.449182</td>\n",
       "      <td>-1.780563</td>\n",
       "      <td>-0.650436</td>\n",
       "      <td>0.802490</td>\n",
       "      <td>0.765973</td>\n",
       "      <td>0.525568</td>\n",
       "    </tr>\n",
       "  </tbody>\n",
       "</table>\n",
       "</div>"
      ],
      "text/plain": [
       "   clarity  price  cut_Fair  cut_Good  cut_Ideal  cut_Premium  cut_Very Good  \\\n",
       "0        4  11053         0         0          1            0              0   \n",
       "1        6    684         0         0          0            0              1   \n",
       "2        3   3921         0         0          0            1              0   \n",
       "3        3   4043         0         0          1            0              0   \n",
       "4        1   4751         0         0          1            0              0   \n",
       "\n",
       "   color_D  color_E  color_F  color_G  color_H  color_I  color_J     carat  \\\n",
       "0        1        0        0        0        0        0        0  0.850260   \n",
       "1        0        0        0        0        1        0        0 -1.049586   \n",
       "2        0        0        0        0        1        0        0  0.238088   \n",
       "3        0        0        1        0        0        0        0  0.005884   \n",
       "4        0        1        0        0        0        0        0  0.449182   \n",
       "\n",
       "      depth     table         x         y         z  \n",
       "0 -0.524181  0.691311  0.945060  0.997975  0.878502  \n",
       "1  0.173808  0.691311 -1.309331 -1.286354 -1.253220  \n",
       "2 -1.501367  1.138560  0.463886  0.498278  0.285573  \n",
       "3  0.243607 -0.650436  0.178745  0.221660  0.229104  \n",
       "4 -1.780563 -0.650436  0.802490  0.765973  0.525568  "
      ]
     },
     "execution_count": 2,
     "metadata": {},
     "output_type": "execute_result"
    }
   ],
   "source": [
    "data = pd.read_csv('dataset/diamonds_processed.csv')\n",
    "data.head()"
   ]
  },
  {
   "cell_type": "code",
   "execution_count": 3,
   "metadata": {},
   "outputs": [],
   "source": [
    "from sklearn.linear_model import LinearRegression\n",
    "\n",
    "def linear_model(x_train, y_train):\n",
    "    print(\"Linear Regression\")\n",
    "    linear_reg = LinearRegression()\n",
    "    linear_reg.fit(x_train, y_train)\n",
    "    \n",
    "    return linear_reg"
   ]
  },
  {
   "cell_type": "code",
   "execution_count": 4,
   "metadata": {},
   "outputs": [],
   "source": [
    "from sklearn.linear_model import Lasso\n",
    "\n",
    "def lasso_model(x_train, y_train):\n",
    "    print('lasso regression')\n",
    "    lasso_reg = Lasso(alpha= 0.8, max_iter= 10000)\n",
    "    lasso_reg.fit(x_train, y_train)\n",
    "    \n",
    "    return lasso_reg"
   ]
  },
  {
   "cell_type": "code",
   "execution_count": 5,
   "metadata": {},
   "outputs": [],
   "source": [
    "from sklearn.linear_model import Ridge\n",
    "\n",
    "def ridge_model(x_train, y_train):\n",
    "    print('ridge regression')\n",
    "    ridge_reg = Ridge(alpha= 0.8)\n",
    "    ridge_reg.fit(x_train, y_train)\n",
    "    \n",
    "    return ridge_reg"
   ]
  },
  {
   "cell_type": "code",
   "execution_count": 6,
   "metadata": {},
   "outputs": [],
   "source": [
    "def build_train_model(data, target_name, reg_fn):\n",
    "    X = data.drop(target_name, axis= 1)\n",
    "    Y = data[target_name]\n",
    "    \n",
    "    x_train, x_test, y_train, y_test = train_test_split(X, Y, test_size= 0.2, random_state = 0)\n",
    "    \n",
    "    model = reg_fn(x_train, y_train)\n",
    "    \n",
    "    score = model.score(x_train, y_train)\n",
    "    print(\"training score is \", score)\n",
    "    \n",
    "    y_pred = model.predict(x_test)\n",
    "    r_score = r2_score(y_test, y_pred)\n",
    "    print(\"testing score is \", r_score)\n",
    "    \n",
    "    return {\n",
    "        'model': model,\n",
    "        'x-train': x_train, 'x_test': x_test,\n",
    "        'y_train': y_train, 'y_test': y_test,\n",
    "        'y_pred': y_pred\n",
    "    }"
   ]
  },
  {
   "cell_type": "code",
   "execution_count": 7,
   "metadata": {},
   "outputs": [
    {
     "name": "stdout",
     "output_type": "stream",
     "text": [
      "Linear Regression\n",
      "training score is  0.91209829166845\n",
      "testing score is  0.9005423109537816\n"
     ]
    }
   ],
   "source": [
    "linear_reg = build_train_model(data, 'price', linear_model)"
   ]
  },
  {
   "cell_type": "code",
   "execution_count": 8,
   "metadata": {},
   "outputs": [
    {
     "name": "stdout",
     "output_type": "stream",
     "text": [
      "lasso regression\n",
      "training score is  0.9120807661922641\n",
      "testing score is  0.9006823122790389\n"
     ]
    }
   ],
   "source": [
    "lasso_reg = build_train_model(data, 'price', lasso_model)"
   ]
  },
  {
   "cell_type": "code",
   "execution_count": 9,
   "metadata": {},
   "outputs": [
    {
     "name": "stdout",
     "output_type": "stream",
     "text": [
      "ridge regression\n",
      "training score is  0.9120982501674167\n",
      "testing score is  0.900556306035974\n"
     ]
    }
   ],
   "source": [
    "ridge_reg = build_train_model(data, 'price', ridge_model)"
   ]
  },
  {
   "cell_type": "code",
   "execution_count": 10,
   "metadata": {},
   "outputs": [
    {
     "data": {
      "text/plain": [
       "LinearRegression(copy_X=True, fit_intercept=True, n_jobs=None, normalize=False)"
      ]
     },
     "execution_count": 10,
     "metadata": {},
     "output_type": "execute_result"
    }
   ],
   "source": [
    "linear_reg['model']"
   ]
  },
  {
   "cell_type": "code",
   "execution_count": 11,
   "metadata": {},
   "outputs": [],
   "source": [
    "from sklearn.linear_model import SGDRegressor\n",
    "\n",
    "def sgd_model(x_train, y_train):\n",
    "    \n",
    "    print(\"SGD Regression\")\n",
    "    sgd_reg = SGDRegressor(max_iter = 2000)\n",
    "    sgd_reg.fit(x_train, y_train)\n",
    "    \n",
    "    return sgd_reg"
   ]
  },
  {
   "cell_type": "code",
   "execution_count": 12,
   "metadata": {},
   "outputs": [
    {
     "name": "stdout",
     "output_type": "stream",
     "text": [
      "SGD Regression\n",
      "training score is  0.9119634780204797\n",
      "testing score is  0.9003446887426528\n"
     ]
    }
   ],
   "source": [
    "sgd_reg = build_train_model(data, 'price', sgd_model)"
   ]
  }
 ],
 "metadata": {
  "kernelspec": {
   "display_name": "Python 3",
   "language": "python",
   "name": "python3"
  },
  "language_info": {
   "codemirror_mode": {
    "name": "ipython",
    "version": 3
   },
   "file_extension": ".py",
   "mimetype": "text/x-python",
   "name": "python",
   "nbconvert_exporter": "python",
   "pygments_lexer": "ipython3",
   "version": "3.7.6"
  }
 },
 "nbformat": 4,
 "nbformat_minor": 4
}
