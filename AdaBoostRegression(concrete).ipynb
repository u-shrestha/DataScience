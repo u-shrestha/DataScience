{
 "cells": [
  {
   "cell_type": "code",
   "execution_count": 1,
   "metadata": {},
   "outputs": [],
   "source": [
    "import pandas as pd\n",
    "import matplotlib.pyplot as plt"
   ]
  },
  {
   "cell_type": "code",
   "execution_count": 2,
   "metadata": {},
   "outputs": [
    {
     "data": {
      "text/html": [
       "<div>\n",
       "<style scoped>\n",
       "    .dataframe tbody tr th:only-of-type {\n",
       "        vertical-align: middle;\n",
       "    }\n",
       "\n",
       "    .dataframe tbody tr th {\n",
       "        vertical-align: top;\n",
       "    }\n",
       "\n",
       "    .dataframe thead th {\n",
       "        text-align: right;\n",
       "    }\n",
       "</style>\n",
       "<table border=\"1\" class=\"dataframe\">\n",
       "  <thead>\n",
       "    <tr style=\"text-align: right;\">\n",
       "      <th></th>\n",
       "      <th>cement</th>\n",
       "      <th>slag</th>\n",
       "      <th>flyash</th>\n",
       "      <th>water</th>\n",
       "      <th>superplasticizer</th>\n",
       "      <th>coarseaggregate</th>\n",
       "      <th>fineaggregate</th>\n",
       "      <th>age</th>\n",
       "      <th>csMPa</th>\n",
       "    </tr>\n",
       "  </thead>\n",
       "  <tbody>\n",
       "    <tr>\n",
       "      <th>0</th>\n",
       "      <td>540.0</td>\n",
       "      <td>0.0</td>\n",
       "      <td>0.0</td>\n",
       "      <td>162.0</td>\n",
       "      <td>2.5</td>\n",
       "      <td>1040.0</td>\n",
       "      <td>676.0</td>\n",
       "      <td>28</td>\n",
       "      <td>79.99</td>\n",
       "    </tr>\n",
       "    <tr>\n",
       "      <th>1</th>\n",
       "      <td>540.0</td>\n",
       "      <td>0.0</td>\n",
       "      <td>0.0</td>\n",
       "      <td>162.0</td>\n",
       "      <td>2.5</td>\n",
       "      <td>1055.0</td>\n",
       "      <td>676.0</td>\n",
       "      <td>28</td>\n",
       "      <td>61.89</td>\n",
       "    </tr>\n",
       "    <tr>\n",
       "      <th>2</th>\n",
       "      <td>332.5</td>\n",
       "      <td>142.5</td>\n",
       "      <td>0.0</td>\n",
       "      <td>228.0</td>\n",
       "      <td>0.0</td>\n",
       "      <td>932.0</td>\n",
       "      <td>594.0</td>\n",
       "      <td>270</td>\n",
       "      <td>40.27</td>\n",
       "    </tr>\n",
       "    <tr>\n",
       "      <th>3</th>\n",
       "      <td>332.5</td>\n",
       "      <td>142.5</td>\n",
       "      <td>0.0</td>\n",
       "      <td>228.0</td>\n",
       "      <td>0.0</td>\n",
       "      <td>932.0</td>\n",
       "      <td>594.0</td>\n",
       "      <td>365</td>\n",
       "      <td>41.05</td>\n",
       "    </tr>\n",
       "    <tr>\n",
       "      <th>4</th>\n",
       "      <td>198.6</td>\n",
       "      <td>132.4</td>\n",
       "      <td>0.0</td>\n",
       "      <td>192.0</td>\n",
       "      <td>0.0</td>\n",
       "      <td>978.4</td>\n",
       "      <td>825.5</td>\n",
       "      <td>360</td>\n",
       "      <td>44.30</td>\n",
       "    </tr>\n",
       "  </tbody>\n",
       "</table>\n",
       "</div>"
      ],
      "text/plain": [
       "   cement   slag  flyash  water  superplasticizer  coarseaggregate  \\\n",
       "0   540.0    0.0     0.0  162.0               2.5           1040.0   \n",
       "1   540.0    0.0     0.0  162.0               2.5           1055.0   \n",
       "2   332.5  142.5     0.0  228.0               0.0            932.0   \n",
       "3   332.5  142.5     0.0  228.0               0.0            932.0   \n",
       "4   198.6  132.4     0.0  192.0               0.0            978.4   \n",
       "\n",
       "   fineaggregate  age  csMPa  \n",
       "0          676.0   28  79.99  \n",
       "1          676.0   28  61.89  \n",
       "2          594.0  270  40.27  \n",
       "3          594.0  365  41.05  \n",
       "4          825.5  360  44.30  "
      ]
     },
     "execution_count": 2,
     "metadata": {},
     "output_type": "execute_result"
    }
   ],
   "source": [
    "concrete = pd.read_csv('datasets/concrete_data.csv')\n",
    "concrete.head()"
   ]
  },
  {
   "cell_type": "code",
   "execution_count": 3,
   "metadata": {},
   "outputs": [],
   "source": [
    "X = concrete.drop('csMPa', axis= 1)\n",
    "Y = concrete['csMPa']"
   ]
  },
  {
   "cell_type": "code",
   "execution_count": 4,
   "metadata": {},
   "outputs": [],
   "source": [
    "from sklearn.model_selection import train_test_split\n",
    "\n",
    "x_train, x_test, y_train, y_test = train_test_split(X,Y,test_size= 0.2)"
   ]
  },
  {
   "cell_type": "code",
   "execution_count": 5,
   "metadata": {},
   "outputs": [],
   "source": [
    "from sklearn.ensemble import AdaBoostRegressor\n",
    "from sklearn.tree import DecisionTreeRegressor"
   ]
  },
  {
   "cell_type": "code",
   "execution_count": 6,
   "metadata": {},
   "outputs": [
    {
     "data": {
      "text/plain": [
       "AdaBoostRegressor(base_estimator=DecisionTreeRegressor(ccp_alpha=0.0,\n",
       "                                                       criterion='mse',\n",
       "                                                       max_depth=4,\n",
       "                                                       max_features=None,\n",
       "                                                       max_leaf_nodes=None,\n",
       "                                                       min_impurity_decrease=0.0,\n",
       "                                                       min_impurity_split=None,\n",
       "                                                       min_samples_leaf=1,\n",
       "                                                       min_samples_split=2,\n",
       "                                                       min_weight_fraction_leaf=0.0,\n",
       "                                                       presort='deprecated',\n",
       "                                                       random_state=None,\n",
       "                                                       splitter='best'),\n",
       "                  learning_rate=1.0, loss='linear', n_estimators=100,\n",
       "                  random_state=None)"
      ]
     },
     "execution_count": 6,
     "metadata": {},
     "output_type": "execute_result"
    }
   ],
   "source": [
    "ada_reg = AdaBoostRegressor(DecisionTreeRegressor(max_depth= 4),\n",
    "                            n_estimators= 100,\n",
    "                            learning_rate= 1.0)\n",
    "ada_reg.fit(x_train, y_train)"
   ]
  },
  {
   "cell_type": "code",
   "execution_count": 8,
   "metadata": {},
   "outputs": [
    {
     "data": {
      "text/plain": [
       "array([1.32791465, 1.36263937, 1.22566155, 1.13870971, 0.72302169,\n",
       "       0.83455502, 1.01054923, 1.1267114 , 1.2963617 , 0.72910744,\n",
       "       1.36498688, 1.07095606, 1.02441859, 1.35001878, 1.04169047,\n",
       "       0.89095787, 0.48195611, 0.70837438, 0.66404161, 1.19492029,\n",
       "       0.87793024, 0.61857221, 1.08658023, 0.72331242, 0.61789783,\n",
       "       1.05460605, 0.76014464, 0.88273389, 0.74576471, 0.79236224,\n",
       "       0.72210736, 0.83267326, 0.81738283, 0.8667658 , 0.39825011,\n",
       "       0.5063015 , 0.90040528, 1.26198533, 1.04860813, 1.00668823,\n",
       "       0.68268219, 0.57060785, 0.77390488, 0.75920704, 0.99685905,\n",
       "       0.68058746, 0.71201873, 0.81324544, 0.7734969 , 0.60967546,\n",
       "       0.42588927, 0.8205948 , 0.62799565, 0.60576232, 1.14383747,\n",
       "       0.5017482 , 0.87645936, 0.60928486, 0.79002155, 0.47602384,\n",
       "       0.96516143, 0.35018043, 1.04608336, 0.60607803, 0.8557527 ,\n",
       "       0.77613099, 0.571431  , 1.19408482, 0.66771266, 0.1937774 ,\n",
       "       0.94219249, 0.84775055, 1.08592532, 0.9212459 , 1.0202082 ,\n",
       "       1.01294367, 0.78263457, 0.89185575, 0.96447874, 0.75688062,\n",
       "       1.1512821 , 0.71641713, 0.55959394, 0.67390554, 0.23644826,\n",
       "       0.84953838, 0.69816568, 1.09895849, 1.16122482, 1.17055926,\n",
       "       0.86662131, 1.01115478, 0.81791817, 0.66574301, 0.35601154,\n",
       "       1.05635238, 0.85168442, 0.79150561, 0.91378448, 1.0887931 ])"
      ]
     },
     "execution_count": 8,
     "metadata": {},
     "output_type": "execute_result"
    }
   ],
   "source": [
    "ada_reg.estimator_weights_"
   ]
  },
  {
   "cell_type": "code",
   "execution_count": 9,
   "metadata": {},
   "outputs": [],
   "source": [
    "y_pred = ada_reg.predict(x_test)"
   ]
  },
  {
   "cell_type": "code",
   "execution_count": 10,
   "metadata": {},
   "outputs": [
    {
     "data": {
      "text/plain": [
       "0.815524228403586"
      ]
     },
     "execution_count": 10,
     "metadata": {},
     "output_type": "execute_result"
    }
   ],
   "source": [
    "from sklearn.metrics import r2_score\n",
    "\n",
    "r2_score(y_test, y_pred)"
   ]
  },
  {
   "cell_type": "code",
   "execution_count": 11,
   "metadata": {},
   "outputs": [
    {
     "data": {
      "text/plain": [
       "AdaBoostRegressor(base_estimator=DecisionTreeRegressor(ccp_alpha=0.0,\n",
       "                                                       criterion='mse',\n",
       "                                                       max_depth=2,\n",
       "                                                       max_features=None,\n",
       "                                                       max_leaf_nodes=None,\n",
       "                                                       min_impurity_decrease=0.0,\n",
       "                                                       min_impurity_split=None,\n",
       "                                                       min_samples_leaf=1,\n",
       "                                                       min_samples_split=2,\n",
       "                                                       min_weight_fraction_leaf=0.0,\n",
       "                                                       presort='deprecated',\n",
       "                                                       random_state=None,\n",
       "                                                       splitter='best'),\n",
       "                  learning_rate=0.5, loss='linear', n_estimators=200,\n",
       "                  random_state=None)"
      ]
     },
     "execution_count": 11,
     "metadata": {},
     "output_type": "execute_result"
    }
   ],
   "source": [
    "ada_reg = AdaBoostRegressor(DecisionTreeRegressor(max_depth= 2),\n",
    "                            n_estimators= 200,\n",
    "                            learning_rate= 0.5)\n",
    "ada_reg.fit(x_train, y_train)"
   ]
  },
  {
   "cell_type": "code",
   "execution_count": 12,
   "metadata": {},
   "outputs": [
    {
     "data": {
      "text/plain": [
       "array([0.45554943, 0.6131639 , 0.56611581, 0.54215328, 0.44561072,\n",
       "       0.58511993, 0.46008154, 0.43619892, 0.55950055, 0.48987005,\n",
       "       0.5025622 , 0.41082542, 0.48609182, 0.52028625, 0.36805567,\n",
       "       0.41519818, 0.44120915, 0.39629356, 0.31402349, 0.34727491,\n",
       "       0.26669775, 0.47436358, 0.55640574, 0.32299442, 0.29498078,\n",
       "       0.4529635 , 0.22294583, 0.37622721, 0.45294092, 0.35065192,\n",
       "       0.3315823 , 0.41732147, 0.50004123, 0.25019536, 0.48233938,\n",
       "       0.40437839, 0.18266303, 0.21254053, 0.40545318, 0.20536225,\n",
       "       0.34671409, 0.34064771, 0.31163955, 0.4538052 , 0.35900097,\n",
       "       0.32722676, 0.42451595, 0.31040896, 0.35768479, 0.36143962,\n",
       "       0.32979888, 0.21931972, 0.47074771, 0.18091347, 0.31594824,\n",
       "       0.44417039, 0.45486969, 0.18629612, 0.26297732, 0.31290949,\n",
       "       0.36545648, 0.38690711, 0.22166577, 0.25922143, 0.47823823,\n",
       "       0.16099169, 0.48440837, 0.36209382, 0.53856724, 0.270085  ,\n",
       "       0.19286142, 0.33990993, 0.47309837, 0.27440187, 0.3678063 ,\n",
       "       0.28879846, 0.41131124, 0.44672413, 0.17756945, 0.32172741,\n",
       "       0.34957475, 0.30500597, 0.27625955, 0.31649793, 0.13464341,\n",
       "       0.50348212, 0.3427578 , 0.30104287, 0.22180872, 0.31344259,\n",
       "       0.15304031, 0.40272646, 0.28236123, 0.36073306, 0.39244215,\n",
       "       0.2235069 , 0.18858811, 0.33540856, 0.15987589, 0.3459321 ,\n",
       "       0.31980471, 0.28949956, 0.20664634, 0.49149258, 0.21452019,\n",
       "       0.22742117, 0.3254947 , 0.56707315, 0.29404243, 0.32351432,\n",
       "       0.32588616, 0.20574359, 0.4945873 , 0.37124987, 0.2827074 ,\n",
       "       0.13182429, 0.17559685, 0.09142229, 0.28428109, 0.37694317,\n",
       "       0.28632041, 0.25910015, 0.06859826, 0.2450784 , 0.12800255,\n",
       "       0.56114007, 0.67856571, 0.08392711, 0.27705821, 0.21530306,\n",
       "       0.18337748, 0.22759668, 0.36085774, 0.19062479, 0.33988981,\n",
       "       0.32324334, 0.22160619, 0.11860601, 0.32332618, 0.28160557,\n",
       "       0.28819571, 0.24174356, 0.33420325, 0.22770105, 0.52665284,\n",
       "       0.65409419, 0.31638991, 0.2439816 , 0.2272682 , 0.31267742,\n",
       "       0.26373602, 0.24519848, 0.13079103, 0.19141146, 0.2358237 ,\n",
       "       0.39797993, 0.15000328, 0.35127594, 0.0862508 , 0.42495664,\n",
       "       0.51149143, 0.12925197, 0.11717258, 0.29241659, 0.37089954,\n",
       "       0.12174513, 0.54445407, 0.2287625 , 0.43191562, 0.23387582,\n",
       "       0.35266798, 0.14123591, 0.18247657, 0.26810457, 0.08340033,\n",
       "       0.08385321, 0.10995687, 0.07966413, 0.15717907, 0.41831632,\n",
       "       0.23388174, 0.29277656, 0.12970968, 0.36029109, 0.19174576,\n",
       "       0.37304833, 0.39616171, 0.06793172, 0.26171303, 0.42728471,\n",
       "       0.30689451, 0.25664401, 0.27498367, 0.30813304, 0.38139563,\n",
       "       0.20737817, 0.29150893, 0.33498036, 0.30171847, 0.40450807])"
      ]
     },
     "execution_count": 12,
     "metadata": {},
     "output_type": "execute_result"
    }
   ],
   "source": [
    "ada_reg.estimator_weights_"
   ]
  },
  {
   "cell_type": "code",
   "execution_count": 13,
   "metadata": {},
   "outputs": [
    {
     "data": {
      "text/plain": [
       "0.6911654810367321"
      ]
     },
     "execution_count": 13,
     "metadata": {},
     "output_type": "execute_result"
    }
   ],
   "source": [
    "y_pred = ada_reg.predict(x_test)\n",
    "r2_score(y_test, y_pred)"
   ]
  }
 ],
 "metadata": {
  "kernelspec": {
   "display_name": "Python 3",
   "language": "python",
   "name": "python3"
  },
  "language_info": {
   "codemirror_mode": {
    "name": "ipython",
    "version": 3
   },
   "file_extension": ".py",
   "mimetype": "text/x-python",
   "name": "python",
   "nbconvert_exporter": "python",
   "pygments_lexer": "ipython3",
   "version": "3.7.6"
  }
 },
 "nbformat": 4,
 "nbformat_minor": 4
}
